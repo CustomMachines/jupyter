{
 "cells": [
  {
   "cell_type": "code",
   "execution_count": 8,
   "metadata": {
    "collapsed": false
   },
   "outputs": [],
   "source": [
    "import mmap\n",
    "import os\n",
    "import time\n",
    "import numpy as np\n",
    "\n",
    "regset_gpio = np.dtype([\n",
    "    ('o', 'uint32'),\n",
    "    ('t', 'uint32'),\n",
    "    ('i', 'uint32')\n",
    "])\n",
    "\n",
    "os.system('cat red_pitaya.bit > /dev/xdevcfg')\n",
    "\n",
    "fd = os.open('/dev/uio/api', os.O_RDWR)\n",
    "m = mmap.mmap(fileno=fd, length=mmap.PAGESIZE, offset=0x0)\n",
    "gpio_array = np.recarray(1, regset_gpio, buf=m)\n",
    "gpio = gpio_array[0]\n",
    "\n",
    "# enable output\n",
    "gpio.t = 0x000000\n",
    "\n",
    "# blink\n",
    "for i in range(10):\n",
    "    gpio.o = 0xf00000\n",
    "    time.sleep(0.2)\n",
    "    gpio.o = 0x0f0000\n",
    "    time.sleep(0.2)"
   ]
  },
  {
   "cell_type": "code",
   "execution_count": 9,
   "metadata": {
    "collapsed": false
   },
   "outputs": [
    {
     "data": {
      "text/plain": [
       "'0xf0000'"
      ]
     },
     "execution_count": 9,
     "metadata": {},
     "output_type": "execute_result"
    }
   ],
   "source": [
    "hex(gpio.o)"
   ]
  },
  {
   "cell_type": "code",
   "execution_count": 10,
   "metadata": {
    "collapsed": false
   },
   "outputs": [
    {
     "data": {
      "text/plain": [
       "'0xf0000'"
      ]
     },
     "execution_count": 10,
     "metadata": {},
     "output_type": "execute_result"
    }
   ],
   "source": [
    "hex(gpio.i)"
   ]
  },
  {
   "cell_type": "code",
   "execution_count": null,
   "metadata": {
    "collapsed": true
   },
   "outputs": [],
   "source": []
  }
 ],
 "metadata": {
  "kernelspec": {
   "display_name": "Python 3",
   "language": "python",
   "name": "python3"
  },
  "language_info": {
   "codemirror_mode": {
    "name": "ipython",
    "version": 3
   },
   "file_extension": ".py",
   "mimetype": "text/x-python",
   "name": "python",
   "nbconvert_exporter": "python",
   "pygments_lexer": "ipython3",
   "version": "3.5.2"
  }
 },
 "nbformat": 4,
 "nbformat_minor": 2
}
