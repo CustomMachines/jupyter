{
 "cells": [
  {
   "cell_type": "markdown",
   "metadata": {},
   "source": [
    "# Analog input API\n",
    "\n",
    "The API provides access to analog inputs on the E2 connector."
   ]
  },
  {
   "cell_type": "code",
   "execution_count": null,
   "metadata": {
    "collapsed": true
   },
   "outputs": [],
   "source": [
    "from redpitaya.overlay.mercury import mercury as FPGA\n",
    "overlay = FPGA()"
   ]
  },
  {
   "cell_type": "code",
   "execution_count": null,
   "metadata": {},
   "outputs": [],
   "source": [
    "chn = 4\n",
    "channels = [FPGA.analog_in(ch) for ch in range(chn)]\n",
    "\n",
    "for ch in range(chn):\n",
    "    print(channels[ch].read())"
   ]
  },
  {
   "cell_type": "markdown",
   "metadata": {},
   "source": [
    "## Measurement logging\n",
    "\n",
    "This example is using a Pyhon list for the data sequence, which can become a performance issue for large data sets.\n",
    "\n",
    "A better implementation would use a fixed `numpy` array for display data, and the rest of the data would be stored into a file."
   ]
  },
  {
   "cell_type": "code",
   "execution_count": null,
   "metadata": {},
   "outputs": [],
   "source": [
    "import time\n",
    "import numpy as np\n",
    "\n",
    "from bokeh.io import push_notebook, show, output_notebook\n",
    "from bokeh.models import HoverTool, Range1d\n",
    "from bokeh.plotting import figure\n",
    "from bokeh.resources import INLINE \n",
    "output_notebook(resources=INLINE)"
   ]
  },
  {
   "cell_type": "code",
   "execution_count": null,
   "metadata": {},
   "outputs": [],
   "source": [
    "x = [0]\n",
    "y = [[channels[ch].read()] for ch in range(chn)]\n",
    "\n",
    "colors = ('red', 'blue', 'green', 'orange')\n",
    "hover = HoverTool(mode = 'vline', tooltips=[(\"T\", \"@x\"), (\"V\", \"@y\")])\n",
    "tools = \"pan,wheel_zoom,box_zoom,reset,crosshair\"\n",
    "p = figure(plot_height=400, plot_width=900, title=\"XADC log\", toolbar_location=\"above\", tools=(tools, hover))\n",
    "p.xaxis.axis_label='time [s]'\n",
    "p.y_range=Range1d(0, 5)\n",
    "p.yaxis.axis_label='voltage [V]'\n",
    "r = [p.line(x, y[ch], line_width=1, line_alpha=0.7, color=colors[ch], legend=\"AI \"+str(ch)) for ch in range(chn)]\n",
    "\n",
    "# get and explicit handle to update the next show cell with\n",
    "target = show(p, notebook_handle=True)"
   ]
  },
  {
   "cell_type": "markdown",
   "metadata": {},
   "source": [
    "A sample is taken every `T` seconds.\n",
    "This implementation suffers from time drift,\n",
    "since the actual period is larger than `T`\n",
    "by the time it takes to execute the rest of the loop."
   ]
  },
  {
   "cell_type": "code",
   "execution_count": null,
   "metadata": {},
   "outputs": [],
   "source": [
    "T = 1\n",
    "#while True:\n",
    "for i in range(200):\n",
    "    x.append(x[-1]+T)\n",
    "    for ch in range(chn):\n",
    "        r[ch].data_source.data['y'].append(channels[ch].read())\n",
    "    # push updates to the plot continuously using the handle (intererrupt the notebook kernel to stop)\n",
    "    push_notebook(handle=target)\n",
    "    time.sleep(T)"
   ]
  }
 ],
 "metadata": {
  "kernelspec": {
   "display_name": "Python 3",
   "language": "python",
   "name": "python3"
  },
  "language_info": {
   "codemirror_mode": {
    "name": "ipython",
    "version": 3
   },
   "file_extension": ".py",
   "mimetype": "text/x-python",
   "name": "python",
   "nbconvert_exporter": "python",
   "pygments_lexer": "ipython3",
   "version": "3.5.2"
  }
 },
 "nbformat": 4,
 "nbformat_minor": 2
}
