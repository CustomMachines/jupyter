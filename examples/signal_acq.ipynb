{
 "cells": [
  {
   "cell_type": "code",
   "execution_count": null,
   "metadata": {
    "collapsed": false
   },
   "outputs": [],
   "source": [
    "#!/usr/bin/python3\n",
    "\n",
    "from redpitaya import *\n",
    "from time import sleep\n",
    "\n",
    "base.GenReset()\n",
    "base.GenFreq(CH_1, 20000.0)\n",
    "base.GenAmp(CH_1, 1.0)\n",
    "base.GenWaveform(CH_1, WAVEFORM_SINE)\n",
    "base.GenOutEnable(CH_1)\n",
    "\n",
    "base.AcqReset()\n",
    "base.AcqSetDecimation(1)\n",
    "base.AcqSetTriggerLevel(CH_1, 0.1)\n",
    "base.AcqSetTriggerDelay(CH_1)\n",
    "\n",
    "base.AcqStart()\n",
    "\n",
    "sleep(1)\n",
    "base.AcqSetTriggerSrc(TRIG_SRC_CHA_PE)\n",
    "\n",
    "while base.AcqGetTriggerState() == TRIG_STATE_WAITING:\n",
    "    pass\n",
    "print('triggered')\n",
    "\n",
    "size = base.AcqGetBufSize()\n",
    "buff = base.AcqGetOldestDataV(CH_1, size);\n",
    "plot(buff)"
   ]
  },
  {
   "cell_type": "code",
   "execution_count": null,
   "metadata": {
    "collapsed": true
   },
   "outputs": [],
   "source": []
  },
  {
   "cell_type": "code",
   "execution_count": null,
   "metadata": {
    "collapsed": true
   },
   "outputs": [],
   "source": []
  },
  {
   "cell_type": "code",
   "execution_count": null,
   "metadata": {
    "collapsed": true
   },
   "outputs": [],
   "source": []
  }
 ],
 "metadata": {
  "kernelspec": {
   "display_name": "Python 3",
   "language": "python",
   "name": "python3"
  },
  "language_info": {
   "codemirror_mode": {
    "name": "ipython",
    "version": 3
   },
   "file_extension": ".py",
   "mimetype": "text/x-python",
   "name": "python",
   "nbconvert_exporter": "python",
   "pygments_lexer": "ipython3",
   "version": "3.5.2"
  }
 },
 "nbformat": 4,
 "nbformat_minor": 2
}
