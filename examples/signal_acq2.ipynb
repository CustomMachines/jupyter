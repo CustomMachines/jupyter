{
 "cells": [
  {
   "cell_type": "code",
   "execution_count": null,
   "metadata": {
    "collapsed": false
   },
   "outputs": [],
   "source": [
    "from redpitaya import *\n",
    "\n",
    "base.AcqSetDecimation(8)\n",
    "base.AcqSetTriggerLevel(CH_1, 100)\n",
    "base.AcqStart()\n",
    "base.AcqSetTriggerSrc(TRIG_SRC_EXT_PE)\n",
    "\n",
    "while base.AcqGetTriggerState() != TRIG_STATE_TRIGGERED:\n",
    "    pass\n",
    "print('triggered')\n",
    "\n",
    "size = base.AcqGetBufSize();\n",
    "buff = base.AcqGetOldestDataV(CH_1, size)\n",
    "plot(buff)"
   ]
  }
 ],
 "metadata": {
  "kernelspec": {
   "display_name": "Python 3",
   "language": "python",
   "name": "python3"
  },
  "language_info": {
   "codemirror_mode": {
    "name": "ipython",
    "version": 3
   },
   "file_extension": ".py",
   "mimetype": "text/x-python",
   "name": "python",
   "nbconvert_exporter": "python",
   "pygments_lexer": "ipython3",
   "version": "3.5.2"
  }
 },
 "nbformat": 4,
 "nbformat_minor": 2
}
