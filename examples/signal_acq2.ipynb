{
 "cells": [
  {
   "cell_type": "code",
   "execution_count": null,
   "metadata": {
    "collapsed": true
   },
   "outputs": [],
   "source": [
    "#!/usr/bin/python3\n",
    "\n",
    "from ctypes import *\n",
    "from redpitaya import *\n",
    "from time import sleep\n",
    "\n",
    "base.Init()\n",
    "\n",
    "base.AcqSetDecimation(8)\n",
    "base.AcqSetTriggerLevel(CH_1, 100)\n",
    "base.AcqStart()\n",
    "base.AcqSetTriggerSrc(TRIG_SRC_EXT_PE)\n",
    "\n",
    "while base.AcqGetTriggerState() != TRIG_STATE_TRIGGERED:\n",
    "\tpass\n",
    "print('triggered')\n",
    "\n",
    "size = base.AcqGetBufSize();\n",
    "buff = base.AcqGetOldestDataV(CH_1, size)\n",
    "for v in buff:\n",
    "\tprint(v)\n",
    "\n",
    "base.Release()\n"
   ]
  }
 ],
 "metadata": {
  "kernelspec": {
   "display_name": "Python 3",
   "language": "python",
   "name": "python3"
  },
  "language_info": {
   "codemirror_mode": {
    "name": "ipython",
    "version": 3
   },
   "file_extension": ".py",
   "mimetype": "text/x-python",
   "name": "python",
   "nbconvert_exporter": "python",
   "pygments_lexer": "ipython3",
   "version": "3.5.2"
  }
 },
 "nbformat": 4,
 "nbformat_minor": 2
}
