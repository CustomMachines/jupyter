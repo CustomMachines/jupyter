{
 "cells": [
  {
   "cell_type": "markdown",
   "metadata": {},
   "source": [
    "# Generator bursts"
   ]
  },
  {
   "cell_type": "markdown",
   "metadata": {},
   "source": [
    "Device tree overlay"
   ]
  },
  {
   "cell_type": "code",
   "execution_count": null,
   "metadata": {},
   "outputs": [],
   "source": [
    "from redpitaya.overlay.mercury import mercury as overlay\n",
    "fpga = overlay()"
   ]
  },
  {
   "cell_type": "markdown",
   "metadata": {},
   "source": [
    "Arbitrary signal generator"
   ]
  },
  {
   "cell_type": "code",
   "execution_count": null,
   "metadata": {
    "collapsed": true
   },
   "outputs": [],
   "source": [
    "gen0 = fpga.gen(0)\n",
    "\n",
    "# buffer waveform and sample timing\n",
    "gen0.waveform      = gen0.sine()\n",
    "gen0.sample_step   = 1\n",
    "gen0.sample_offset = 0\n",
    "\n",
    "# burst half the buffer with then idle for quarter buffer, repeat 4 times\n",
    "gen0.burst_repetitions = 4\n",
    "gen0.burst_data_len    =  gen0.buffer_size // 2\n",
    "gen0.burst_period_len  = (gen0.buffer_size // 4) * 3\n",
    "gen0.mode              = 0x1\n",
    "#gen0.mode              = int(gen0.modes.BURST_FIN.value)\n",
    "\n",
    "# set output amplitude, offset and enable it\n",
    "gen0.amplitude     = 1.0\n",
    "gen0.offset        = 0\n",
    "gen0.enable        = True\n",
    "\n",
    "# reset, start and trigger generator to get the first burst\n",
    "gen0.reset()\n",
    "gen0.start()\n",
    "gen0.trigger()"
   ]
  },
  {
   "cell_type": "markdown",
   "metadata": {},
   "source": [
    "To repeat a burst rerun trigger."
   ]
  },
  {
   "cell_type": "code",
   "execution_count": null,
   "metadata": {
    "collapsed": true
   },
   "outputs": [],
   "source": [
    "gen0.trigger()"
   ]
  }
 ],
 "metadata": {
  "kernelspec": {
   "display_name": "Python 3",
   "language": "python",
   "name": "python3"
  },
  "language_info": {
   "codemirror_mode": {
    "name": "ipython",
    "version": 3
   },
   "file_extension": ".py",
   "mimetype": "text/x-python",
   "name": "python",
   "nbconvert_exporter": "python",
   "pygments_lexer": "ipython3",
   "version": "3.5.2"
  }
 },
 "nbformat": 4,
 "nbformat_minor": 2
}
