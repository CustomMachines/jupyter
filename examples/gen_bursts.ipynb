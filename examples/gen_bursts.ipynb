{
 "cells": [
  {
   "cell_type": "markdown",
   "metadata": {},
   "source": [
    "# Generator bursts"
   ]
  },
  {
   "cell_type": "markdown",
   "metadata": {},
   "source": [
    "Device tree overlay"
   ]
  },
  {
   "cell_type": "code",
   "execution_count": 1,
   "metadata": {},
   "outputs": [
    {
     "name": "stdout",
     "output_type": "stream",
     "text": [
      "Requested overlay is already loaded.\n"
     ]
    }
   ],
   "source": [
    "from redpitaya.overlay.mercury import mercury as overlay\n",
    "fpga = overlay()"
   ]
  },
  {
   "cell_type": "markdown",
   "metadata": {},
   "source": [
    "Arbitrary signal generator"
   ]
  },
  {
   "cell_type": "code",
   "execution_count": 2,
   "metadata": {},
   "outputs": [],
   "source": [
    "gen0 = fpga.gen(0)\n",
    "\n",
    "# buffer waveform and sample timing\n",
    "gen0.waveform      = gen0.sine()\n",
    "gen0.sample_step   = 1\n",
    "gen0.sample_offset = 0\n",
    "\n",
    "# burst half the buffer with then idle for quarter buffer, repeat 4 times\n",
    "gen0.burst_repetitions = 4\n",
    "gen0.burst_data_len    =  gen0.buffer_size // 2\n",
    "gen0.burst_period_len  = (gen0.buffer_size // 4) * 3\n",
    "gen0.mode              = 0x1\n",
    "#gen0.mode              = int(gen0.modes.BURST_FIN.value)\n",
    "\n",
    "# set output amplitude, offset and enable it\n",
    "gen0.amplitude     = 1.0\n",
    "gen0.offset        = 0\n",
    "gen0.enable        = True\n",
    "\n",
    "# reset, start and trigger generator to get the first burst\n",
    "gen0.reset()\n",
    "gen0.start()\n",
    "gen0.trigger()"
   ]
  },
  {
   "cell_type": "code",
   "execution_count": 3,
   "metadata": {},
   "outputs": [
    {
     "name": "stdout",
     "output_type": "stream",
     "text": [
      "ctl_sts = 0x0000000a =         10  # control/status                 \n",
      "cfg_trg = 0x00000001 =          1  # HW trigger mask                \n",
      "irq_ena = 0x00000000 =          0  # interrupt enable               \n",
      "irq_sts = 0x00000000 =          0  # interrupt status               \n",
      "cfg_rst = 0x00000001 =          1  # mask reset                     \n",
      "cfg_str = 0x00000001 =          1  # mask start                     \n",
      "cfg_stp = 0x00000001 =          1  # mask stop                      \n",
      "cfg_swt = 0x00000001 =          1  # mask trigger                   \n",
      "cfg_siz = 0x3fffffff = 1073741823  # table size                     \n",
      "cfg_off = 0x00000000 =          0  # table offset                   \n",
      "cfg_ste = 0x0000ffff =      65535  # table step                     \n",
      "cfg_bmd = 0x00000001 =          1  # burst mode [1:0] = [inf, ben]  \n",
      "cfg_bdl = 0x00002000 =       8192  # burst data length              \n",
      "cfg_bln = 0x00003000 =      12288  # burst length (data+pause)      \n",
      "cfg_bnm = 0x00000004 =          4  # burst number of bursts pulses  \n",
      "sts_bln = 0x0000044e =       1102  # burst length (current position)\n",
      "sts_bnm = 0x00000000 =          0  # burst number (current counter) \n",
      "cfg_mul = 0x00001000 =       4096  # multiplier (amplitude)         \n",
      "cfg_sum = 0x00000000 =          0  # adder (offset)                 \n",
      "cfg_ena = 0x00000001 =          1  # output enable                  \n",
      "\n"
     ]
    }
   ],
   "source": [
    "gen0.show_regset()"
   ]
  },
  {
   "cell_type": "code",
   "execution_count": 18,
   "metadata": {
    "collapsed": true
   },
   "outputs": [],
   "source": [
    "gen0.trigger()"
   ]
  }
 ],
 "metadata": {
  "kernelspec": {
   "display_name": "Python 3",
   "language": "python",
   "name": "python3"
  },
  "language_info": {
   "codemirror_mode": {
    "name": "ipython",
    "version": 3
   },
   "file_extension": ".py",
   "mimetype": "text/x-python",
   "name": "python",
   "nbconvert_exporter": "python",
   "pygments_lexer": "ipython3",
   "version": "3.5.2"
  }
 },
 "nbformat": 4,
 "nbformat_minor": 2
}
