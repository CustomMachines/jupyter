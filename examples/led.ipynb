{
 "cells": [
  {
   "cell_type": "markdown",
   "metadata": {},
   "source": [
    "### Overlay\n",
    "\n",
    "FPGA bitstream and device tree overlay describing supported drivers is loaded here."
   ]
  },
  {
   "cell_type": "code",
   "execution_count": null,
   "metadata": {
    "collapsed": true
   },
   "outputs": [],
   "source": [
    "from redpitaya.drv import mercury as fpga\n",
    "o = fpga.overlay(\"mercury\")"
   ]
  },
  {
   "cell_type": "markdown",
   "metadata": {},
   "source": [
    "# LED\n",
    "\n",
    "LED access is implemented throuhg the `sysfs` Linux kernel interface\n",
    "provided by the [LED subsystem](https://www.kernel.org/doc/Documentation/leds/leds-class.txt).\n",
    "\n",
    "Our driver is just a simple wrapper around [`python-periphery 1.1.0`](https://github.com/vsergeev/python-periphery).\n",
    "\n",
    "Maybe some day the userspace LED interface might be considered\n",
    "(Linux kernel patches v4\n",
    "[1/3](https://patchwork.kernel.org/patch/9336461/)\n",
    "[2/3](https://patchwork.kernel.org/patch/9336463/)\n",
    "[3/3](https://patchwork.kernel.org/patch/9336459/))."
   ]
  },
  {
   "cell_type": "code",
   "execution_count": null,
   "metadata": {
    "collapsed": true
   },
   "outputs": [],
   "source": [
    "from redpitaya.drv.led import led as LED\n",
    "\n",
    "# Open LED led[0:7] with initial brightness=0\n",
    "leds = [LED(\"led\"+str(led), 0) for led in range(8)]"
   ]
  },
  {
   "cell_type": "code",
   "execution_count": null,
   "metadata": {
    "collapsed": true
   },
   "outputs": [],
   "source": [
    "# turn ON all LEDs\n",
    "for led in leds:\n",
    "    led.write(1)"
   ]
  },
  {
   "cell_type": "code",
   "execution_count": null,
   "metadata": {
    "collapsed": true
   },
   "outputs": [],
   "source": [
    "# turn OFF all LEDs\n",
    "for led in leds:\n",
    "    led.write(0)"
   ]
  },
  {
   "cell_type": "code",
   "execution_count": null,
   "metadata": {
    "collapsed": true
   },
   "outputs": [],
   "source": [
    "for led in leds:\n",
    "    led.close()"
   ]
  }
 ],
 "metadata": {
  "kernelspec": {
   "display_name": "Python 3",
   "language": "python",
   "name": "python3"
  },
  "language_info": {
   "codemirror_mode": {
    "name": "ipython",
    "version": 3
   },
   "file_extension": ".py",
   "mimetype": "text/x-python",
   "name": "python",
   "nbconvert_exporter": "python",
   "pygments_lexer": "ipython3",
   "version": "3.5.2"
  }
 },
 "nbformat": 4,
 "nbformat_minor": 2
}
