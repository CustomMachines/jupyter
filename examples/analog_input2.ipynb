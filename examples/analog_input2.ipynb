{
 "cells": [
  {
   "cell_type": "code",
   "execution_count": null,
   "metadata": {
    "collapsed": true
   },
   "outputs": [],
   "source": [
    "#!/usr/bin/python3\n",
    "\n",
    "from redpitaya import *\n",
    "import sys\n",
    "\n",
    "base.Init()\n",
    "\n",
    "values = map(float, sys.argv[1:])\n",
    "\n",
    "for i, v in enumerate(values):\n",
    "\tprint(\"pin[%d] = %f\" % (i, v))\n",
    "\tbase.AOpinSetValue(i, v)\n",
    "\n",
    "base.Release()\n"
   ]
  }
 ],
 "metadata": {
  "kernelspec": {
   "display_name": "Python 3",
   "language": "python",
   "name": "python3"
  },
  "language_info": {
   "codemirror_mode": {
    "name": "ipython",
    "version": 3
   },
   "file_extension": ".py",
   "mimetype": "text/x-python",
   "name": "python",
   "nbconvert_exporter": "python",
   "pygments_lexer": "ipython3",
   "version": "3.5.2"
  }
 },
 "nbformat": 4,
 "nbformat_minor": 2
}
