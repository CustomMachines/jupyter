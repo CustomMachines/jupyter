{
 "cells": [
  {
   "cell_type": "code",
   "execution_count": null,
   "metadata": {},
   "outputs": [],
   "source": [
    "from redpitaya.overlay.mercury import mercury as overlay\n",
    "fpga = overlay()\n",
    "\n",
    "gen0 = fpga.gen(0)\n",
    "osc0 = fpga.osc(0, 1.0)\n",
    "mgmt = fpga.mgmt()"
   ]
  },
  {
   "cell_type": "code",
   "execution_count": null,
   "metadata": {
    "collapsed": true
   },
   "outputs": [],
   "source": [
    "# buffer waveform and sample timing\n",
    "gen0.waveform      = [1,0]\n",
    "\n",
    "# burst half the buffer with then idle for quarter buffer, repeat 4 times\n",
    "gen0.burst_data_repetitions = 1\n",
    "gen0.burst_data_length   =  gen0.buffer_size // 2\n",
    "gen0.burst_period_length = (gen0.buffer_size // 4) * 3\n",
    "gen0.burst_period_number = 4\n",
    "gen0.mode              = 'FINITE'\n",
    "\n",
    "# set output amplitude, offset and enable it\n",
    "gen0.amplitude     = 1.0\n",
    "gen0.offset        = 0\n",
    "gen0.enable        = True"
   ]
  },
  {
   "cell_type": "code",
   "execution_count": null,
   "metadata": {
    "collapsed": true
   },
   "outputs": [],
   "source": [
    "# data rate decimation \n",
    "osc0.decimation = 1\n",
    "\n",
    "# trigger timing\n",
    "N = 32\n",
    "osc0.trigger_pre  = 0\n",
    "osc0.trigger_post = 32\n",
    "\n",
    "# synchronization signals from \n",
    "osc0.sync_src = fpga.sync_src['gen0']\n",
    "osc0.trig_src = 0"
   ]
  },
  {
   "cell_type": "code",
   "execution_count": null,
   "metadata": {},
   "outputs": [],
   "source": [
    "from bokeh.io import push_notebook, show, output_notebook\n",
    "from bokeh.models import HoverTool, Range1d\n",
    "from bokeh.plotting import figure, output_file, show\n",
    "from bokeh.models import LabelSet, Label\n",
    "from bokeh.resources import INLINE \n",
    "output_notebook(resources=INLINE)\n",
    "\n",
    "# plotting\n",
    "p = figure()\n",
    "p.y_range=Range1d(-1, 1)\n",
    "r = p.line(range(N), [0]*N)\n",
    "# get and explicit handle to update the next show cell \n",
    "target = show(p,notebook_handle=True)"
   ]
  },
  {
   "cell_type": "code",
   "execution_count": null,
   "metadata": {
    "collapsed": true
   },
   "outputs": [],
   "source": [
    "# digital loopback\n",
    "mgmt.loop = 0b11\n",
    "\n",
    "while True:\n",
    "    # reset, start and trigger generator to get the first burst\n",
    "    gen0.reset()\n",
    "    gen0.start()\n",
    "    gen0.trigger()\n",
    "    while (osc0.status_run()): pass\n",
    "    r.data_source.data['y'] = osc0.data(N)\n",
    "    push_notebook(handle=target)"
   ]
  }
 ],
 "metadata": {
  "kernelspec": {
   "display_name": "Python 3",
   "language": "python",
   "name": "python3"
  },
  "language_info": {
   "codemirror_mode": {
    "name": "ipython",
    "version": 3
   },
   "file_extension": ".py",
   "mimetype": "text/x-python",
   "name": "python",
   "nbconvert_exporter": "python",
   "pygments_lexer": "ipython3",
   "version": "3.5.2"
  }
 },
 "nbformat": 4,
 "nbformat_minor": 2
}
