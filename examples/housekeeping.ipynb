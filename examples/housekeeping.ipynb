{
 "cells": [
  {
   "cell_type": "code",
   "execution_count": null,
   "metadata": {
    "collapsed": true
   },
   "outputs": [],
   "source": [
    "import mmap\n",
    "import os\n",
    "import time\n",
    "import numpy as np\n",
    "\n",
    "regset_hk = np.dtype([\n",
    "    ('id'          , 'uint32'),\n",
    "    ('dna_lo'      , 'uint32'),\n",
    "    ('dna_hi'      , 'uint32'),\n",
    "    ('digital_loop', 'uint32'),\n",
    "    ('ex_cd_p'     , 'uint32'),\n",
    "    ('ex_cd_n'     , 'uint32'),\n",
    "    ('ex_co_p'     , 'uint32'),\n",
    "    ('ex_co_n'     , 'uint32'),\n",
    "    ('ex_ci_p'     , 'uint32'),\n",
    "    ('ex_ci_n'     , 'uint32'),\n",
    "    ('reserved_2'  , 'uint32'),\n",
    "    ('reserved_3'  , 'uint32'),\n",
    "    ('led_control' , 'uint32')\n",
    "])\n",
    "\n",
    "os.system('cat /opt/redpitaya/fpga/fpga_0.94.bit > /dev/xdevcfg')\n",
    "\n",
    "fd = os.open('/dev/uio/api', os.O_RDWR)\n",
    "m = mmap.mmap(fileno=fd, length=mmap.PAGESIZE, offset=0x0)\n",
    "hk_array = np.recarray(1, regset_hk, buf=m)\n",
    "hk = hk_array[0]\n",
    "\n",
    "for i in range(10):\n",
    "    hk.led_control = 0xff\n",
    "    time.sleep(0.2)\n",
    "    hk.led_control = 0x00\n",
    "    time.sleep(0.2)"
   ]
  }
 ],
 "metadata": {
  "kernelspec": {
   "display_name": "Python 3",
   "language": "python",
   "name": "python3"
  },
  "language_info": {
   "codemirror_mode": {
    "name": "ipython",
    "version": 3
   },
   "file_extension": ".py",
   "mimetype": "text/x-python",
   "name": "python",
   "nbconvert_exporter": "python",
   "pygments_lexer": "ipython3",
   "version": "3.5.2"
  }
 },
 "nbformat": 4,
 "nbformat_minor": 2
}
