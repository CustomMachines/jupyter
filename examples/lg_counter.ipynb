{
 "cells": [
  {
   "cell_type": "markdown",
   "metadata": {},
   "source": [
    "# Logic generator counter signal"
   ]
  },
  {
   "cell_type": "code",
   "execution_count": null,
   "metadata": {},
   "outputs": [],
   "source": [
    "from redpitaya.overlay.mercury import mercury as overlay\n",
    "fpga = overlay()"
   ]
  },
  {
   "cell_type": "code",
   "execution_count": null,
   "metadata": {},
   "outputs": [],
   "source": [
    "mgmt = fpga.mgmt()"
   ]
  },
  {
   "cell_type": "code",
   "execution_count": null,
   "metadata": {},
   "outputs": [],
   "source": [
    "lg = fpga.lg()"
   ]
  },
  {
   "cell_type": "code",
   "execution_count": null,
   "metadata": {
    "collapsed": true
   },
   "outputs": [],
   "source": [
    "mgmt.gpio_mode = 0xffff"
   ]
  },
  {
   "cell_type": "code",
   "execution_count": null,
   "metadata": {},
   "outputs": [],
   "source": [
    "# buffer waveform and sample timing\n",
    "lg.waveform      = range(lg.buffer_size)\n",
    "lg.sample_step   = 1.0\n",
    "lg.sample_offset = 0.0\n",
    "\n",
    "# burst half the buffer with then idle for quarter buffer, repeat 4 times\n",
    "lg.burst_data_length      = lg.buffer_size\n",
    "lg.burst_data_repetitions = 1\n",
    "lg.burst_period_length    = lg.buffer_size\n",
    "#lg.burst_period_number = 4\n",
    "lg.mode                = 'INFINITE'\n",
    "\n",
    "# set output amplitude, offset and enable it\n",
    "lg.enable   = 0xffff  # all pins have outputs enabled\n",
    "lg.mask     = 0x0000  # all bits come from ASG, none are constants\n",
    "lg.value    = 0x0000  # the constant pin values are irrelevant since they are not used\n",
    "lg.polarity = 0x0000  # non inverted polarity for all pins\n",
    "\n",
    "# reset, start and trigger generator to get the first burst\n",
    "lg.reset()\n",
    "lg.start()\n",
    "lg.trigger()"
   ]
  }
 ],
 "metadata": {
  "kernelspec": {
   "display_name": "Python 3",
   "language": "python",
   "name": "python3"
  },
  "language_info": {
   "codemirror_mode": {
    "name": "ipython",
    "version": 3
   },
   "file_extension": ".py",
   "mimetype": "text/x-python",
   "name": "python",
   "nbconvert_exporter": "python",
   "pygments_lexer": "ipython3",
   "version": "3.5.2"
  }
 },
 "nbformat": 4,
 "nbformat_minor": 2
}
