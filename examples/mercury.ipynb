{
 "cells": [
  {
   "cell_type": "markdown",
   "metadata": {
    "deletable": true,
    "editable": true
   },
   "source": [
    "Device tree overlay"
   ]
  },
  {
   "cell_type": "code",
   "execution_count": 1,
   "metadata": {
    "collapsed": false,
    "deletable": true,
    "editable": true
   },
   "outputs": [],
   "source": [
    "from redpitaya.overlay.mercury import mercury as FPGA\n",
    "overlay = FPGA()"
   ]
  },
  {
   "cell_type": "markdown",
   "metadata": {
    "deletable": true,
    "editable": true
   },
   "source": [
    "Hardware identification"
   ]
  },
  {
   "cell_type": "code",
   "execution_count": 2,
   "metadata": {
    "collapsed": false,
    "deletable": true,
    "editable": true
   },
   "outputs": [
    {
     "data": {
      "text/plain": [
       "'0x11c0dce4b59085c'"
      ]
     },
     "execution_count": 2,
     "metadata": {},
     "output_type": "execute_result"
    }
   ],
   "source": [
    "regid = FPGA.hwid()\n",
    "\n",
    "hex(regid.dna)"
   ]
  },
  {
   "cell_type": "code",
   "execution_count": 3,
   "metadata": {
    "collapsed": false,
    "deletable": true,
    "editable": true
   },
   "outputs": [],
   "source": [
    "del(regid)"
   ]
  },
  {
   "cell_type": "markdown",
   "metadata": {
    "deletable": true,
    "editable": true
   },
   "source": [
    "Arbitrary signal generator"
   ]
  },
  {
   "cell_type": "code",
   "execution_count": 4,
   "metadata": {
    "collapsed": false,
    "deletable": true,
    "editable": true
   },
   "outputs": [],
   "source": [
    "import numpy as np\n",
    "\n",
    "gen0 = FPGA.gen(0)\n",
    "\n",
    "x = np.linspace(-np.pi, np.pi, gen0.N, endpoint=False)\n",
    "wave = np.sin(x)\n",
    "\n",
    "gen0.amplitude = 1.0\n",
    "gen0.offset    = 0\n",
    "# waveform should be loaded before frequency and phase are calculated\n",
    "# this provides the correct buffer size\n",
    "gen0.waveform  = wave\n",
    "gen0.frequency = 10000\n",
    "gen0.phase     = 0\n",
    "gen0.control_mask = gen0.event_mask\n",
    "gen0.start()\n",
    "gen0.trigger()\n",
    "gen0.enable = True"
   ]
  },
  {
   "cell_type": "code",
   "execution_count": 5,
   "metadata": {
    "collapsed": false,
    "deletable": true,
    "editable": true
   },
   "outputs": [
    {
     "name": "stdout",
     "output_type": "stream",
     "text": [
      "ctl_sts = 0x0000000a =         10  # control/status                 \n",
      "cfg_trg = 0x00000000 =          0  # HW trigger mask                \n",
      "irq_ena = 0x00000000 =          0  # interrupt enable               \n",
      "irq_sts = 0x00000000 =          0  # interrupt status               \n",
      "cfg_rst = 0x00000001 =          1  # mask reset                     \n",
      "cfg_str = 0x00000001 =          1  # mask start                     \n",
      "cfg_stp = 0x00000001 =          1  # mask stop                      \n",
      "cfg_swt = 0x00000001 =          1  # mask trigger                   \n",
      "cfg_siz = 0x3fffffff = 1073741823  # table size                     \n",
      "cfg_off = 0x00000000 =          0  # table offset                   \n",
      "cfg_ste = 0x00014f8a =      85898  # table step                     \n",
      "cfg_bmd = 0x00000000 =          0  # burst mode [1:0] = [inf, ben]  \n",
      "cfg_bdl = 0x00000000 =          0  # burst data length              \n",
      "cfg_bln = 0x00000000 =          0  # burst length (data+pause)      \n",
      "cfg_bnm = 0x00000000 =          0  # burst number of bursts pulses  \n",
      "sts_bln = 0x00000000 =          0  # burst length (current position)\n",
      "sts_bnm = 0x00000000 =          0  # burst number (current counter) \n",
      "cfg_mul = 0x00001000 =       4096  # multiplier (amplitude)         \n",
      "cfg_sum = 0x00000000 =          0  # adder (offset)                 \n",
      "cfg_ena = 0x00000001 =          1  # output enable                  \n",
      "\n"
     ]
    }
   ],
   "source": [
    "gen0.show_regset()"
   ]
  },
  {
   "cell_type": "markdown",
   "metadata": {
    "deletable": true,
    "editable": true
   },
   "source": [
    "Acquire (oscilloscope)"
   ]
  },
  {
   "cell_type": "code",
   "execution_count": 6,
   "metadata": {
    "collapsed": false,
    "deletable": true,
    "editable": true
   },
   "outputs": [],
   "source": [
    "osc0 = FPGA.osc(0, 1.0)"
   ]
  },
  {
   "cell_type": "code",
   "execution_count": 7,
   "metadata": {
    "collapsed": false,
    "deletable": true,
    "editable": true
   },
   "outputs": [],
   "source": [
    "# TODO: for now bypass input filter\n",
    "osc0.filter_bypass = True\n",
    "\n",
    "# trigger timing\n",
    "N = FPGA.osc.N\n",
    "osc0.regset.cfg_pre = N//4*1\n",
    "osc0.regset.cfg_pst = N//4*3\n",
    "\n",
    "# trigger level [V], edge and holdoff [periods]\n",
    "osc0.level = [-0.1, +0.1]\n",
    "osc0.edg = 'pos'\n",
    "osc0.holdoff = 20\n",
    "\n",
    "# control/trigger event mask\n",
    "# itself is the source of all events\n",
    "osc0.control_mask = osc0.event_mask\n",
    "osc0.trigger_mask = osc0.event_mask\n",
    "\n",
    "osc0.reset()\n",
    "osc0.start()\n",
    "#osc0.trigger()\n",
    "while (osc0.status_run()): pass\n",
    "#osc0.stop()"
   ]
  },
  {
   "cell_type": "code",
   "execution_count": 8,
   "metadata": {
    "collapsed": false,
    "deletable": true,
    "editable": true
   },
   "outputs": [
    {
     "name": "stdout",
     "output_type": "stream",
     "text": [
      "ctl_sts = 0x0000000c =         12  # control/status            \n",
      "cfg_trg = 0x00000004 =          4  # HW trigger mask           \n",
      "irq_ena = 0x00000000 =          0  # interrupt enable          \n",
      "irq_sts = 0x00000000 =          0  # interrupt status          \n",
      "cfg_rst = 0x00000004 =          4  # mask reset                \n",
      "cfg_str = 0x00000004 =          4  # mask start                \n",
      "cfg_stp = 0x00000004 =          4  # mask stop                 \n",
      "cfg_swt = 0x00000004 =          4  # mask trigger              \n",
      "cfg_pre = 0x00001000 =       4096  # delay pre  trigger        \n",
      "cfg_pst = 0x00003000 =      12288  # delay post trigger        \n",
      "sts_pre = 0x00003126 =      12582  # status pre  trigger       \n",
      "sts_pst = 0x00003000 =      12288  # status post trigger       \n",
      "cfg_neg = 0x-0000ccc =      -3276  # negative level            \n",
      "cfg_pos = 0x00000ccc =       3276  # positive level            \n",
      "cfg_edg = 0x00000000 =          0  # edge (0-pos, 1-neg)       \n",
      "cfg_hld = 0x00000014 =         20  # hold off time             \n",
      "cfg_dec = 0x00000000 =          0  # decimation factor         \n",
      "cfg_shr = 0x00000000 =          0  # shift right               \n",
      "cfg_avg = 0x00000000 =          0  # average enable            \n",
      "cfg_byp = 0x00000001 =          1  # bypass                    \n",
      "cfg_faa = 0x00007d93 =      32147  # AA coeficient             \n",
      "cfg_fbb = 0x000437c7 =     276423  # BB coeficient             \n",
      "cfg_fkk = 0x00d9999a =   14260634  # KK coeficient             \n",
      "cfg_fpp = 0x00002666 =       9830  # PP coeficient             \n",
      "\n"
     ]
    }
   ],
   "source": [
    "osc0.show_regset()"
   ]
  },
  {
   "cell_type": "code",
   "execution_count": 9,
   "metadata": {
    "collapsed": false,
    "deletable": true,
    "editable": true
   },
   "outputs": [
    {
     "data": {
      "image/png": "[encoded data removed]",
      "text/plain": [
       "<matplotlib.figure.Figure at 0xafa60610>"
      ]
     },
     "metadata": {},
     "output_type": "display_data"
    },
    {
     "data": {
      "image/png": "[encoded data removed]",
      "text/plain": [
       "<matplotlib.figure.Figure at 0xad324490>"
      ]
     },
     "metadata": {},
     "output_type": "display_data"
    },
    {
     "data": {
      "image/png": "[encoded data removed]",
      "text/plain": [
       "<matplotlib.figure.Figure at 0xad354610>"
      ]
     },
     "metadata": {},
     "output_type": "display_data"
    }
   ],
   "source": [
    "import matplotlib.pyplot as plt\n",
    "\n",
    "# show entire buffer while ignoring write pointer position\n",
    "data = osc0.data(ptr=0)\n",
    "plt.plot(data)\n",
    "plt.title('DATA');\n",
    "plt.show()\n",
    "\n",
    "# show entire buffer properly alligned with write pointer\n",
    "data = osc0.data()\n",
    "plt.plot(data)\n",
    "plt.title('DATA');\n",
    "plt.show()\n",
    "\n",
    "# show only the part of the buffer requested by pre/post trigger timing\n",
    "data = osc0.data(N)\n",
    "plt.plot(data)\n",
    "plt.title('DATA');\n",
    "plt.show()\n"
   ]
  },
  {
   "cell_type": "code",
   "execution_count": null,
   "metadata": {
    "collapsed": false,
    "deletable": true,
    "editable": true
   },
   "outputs": [],
   "source": [
    "data[0:4], data[-5:-1]"
   ]
  },
  {
   "cell_type": "code",
   "execution_count": null,
   "metadata": {
    "collapsed": false,
    "deletable": true,
    "editable": true
   },
   "outputs": [],
   "source": [
    "del(gen0)\n",
    "del(osc0)"
   ]
  },
  {
   "cell_type": "code",
   "execution_count": null,
   "metadata": {
    "collapsed": false,
    "deletable": true,
    "editable": true
   },
   "outputs": [],
   "source": [
    "del(overlay)"
   ]
  }
 ],
 "metadata": {
  "kernelspec": {
   "display_name": "Python 3",
   "language": "python",
   "name": "python3"
  },
  "language_info": {
   "codemirror_mode": {
    "name": "ipython",
    "version": 3
   },
   "file_extension": ".py",
   "mimetype": "text/x-python",
   "name": "python",
   "nbconvert_exporter": "python",
   "pygments_lexer": "ipython3",
   "version": "3.5.2"
  }
 },
 "nbformat": 4,
 "nbformat_minor": 2
}
