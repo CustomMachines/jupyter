{
 "cells": [
  {
   "cell_type": "markdown",
   "metadata": {},
   "source": [
    "Device tree overlay"
   ]
  },
  {
   "cell_type": "code",
   "execution_count": null,
   "metadata": {
    "collapsed": true
   },
   "outputs": [],
   "source": [
    "from redpitaya.overlay.mercury import mercury as FPGA\n",
    "overlay = FPGA()"
   ]
  },
  {
   "cell_type": "markdown",
   "metadata": {},
   "source": [
    "Hardware identification"
   ]
  },
  {
   "cell_type": "code",
   "execution_count": null,
   "metadata": {
    "collapsed": true
   },
   "outputs": [],
   "source": [
    "regid = FPGA.hwid()\n",
    "\n",
    "hex(regid.dna)"
   ]
  },
  {
   "cell_type": "code",
   "execution_count": null,
   "metadata": {
    "collapsed": true
   },
   "outputs": [],
   "source": [
    "del(regid)"
   ]
  },
  {
   "cell_type": "markdown",
   "metadata": {},
   "source": [
    "Arbitrary signal generator"
   ]
  },
  {
   "cell_type": "code",
   "execution_count": null,
   "metadata": {
    "collapsed": true
   },
   "outputs": [],
   "source": [
    "import numpy as np\n",
    "\n",
    "gen0 = FPGA.gen(0)\n",
    "\n",
    "x = np.linspace(-np.pi, np.pi, gen0.N, endpoint=False)\n",
    "wave = np.sin(x)\n",
    "\n",
    "gen0.amplitude = 1.0\n",
    "gen0.offset    = 0\n",
    "# waveform should be loaded before frequency and phase are calculated\n",
    "# this provides the correct buffer size\n",
    "gen0.waveform  = wave\n",
    "gen0.frequency = 10000\n",
    "gen0.phase     = 0\n",
    "gen0.control_mask = gen0.event_mask\n",
    "gen0.start()\n",
    "gen0.trigger()\n",
    "gen0.enable = True"
   ]
  },
  {
   "cell_type": "code",
   "execution_count": null,
   "metadata": {
    "collapsed": true
   },
   "outputs": [],
   "source": [
    "gen0.show_regset()"
   ]
  },
  {
   "cell_type": "markdown",
   "metadata": {},
   "source": [
    "Acquire (oscilloscope)"
   ]
  },
  {
   "cell_type": "code",
   "execution_count": null,
   "metadata": {
    "collapsed": true
   },
   "outputs": [],
   "source": [
    "osc0 = FPGA.osc(0, 1.0)"
   ]
  },
  {
   "cell_type": "code",
   "execution_count": null,
   "metadata": {
    "collapsed": true
   },
   "outputs": [],
   "source": [
    "# TODO: for now bypass input filter\n",
    "osc0.filter_bypass = True\n",
    "\n",
    "# trigger timing\n",
    "N = FPGA.osc.N\n",
    "osc0.regset.cfg_pre = N//4*1\n",
    "osc0.regset.cfg_pst = N//4*3\n",
    "\n",
    "# trigger level [V], edge and holdoff [periods]\n",
    "osc0.level = [-0.1, +0.1]\n",
    "osc0.edg = 'pos'\n",
    "osc0.holdoff = 20\n",
    "\n",
    "# control/trigger event mask\n",
    "# itself is the source of all events\n",
    "osc0.control_mask = osc0.event_mask\n",
    "osc0.trigger_mask = osc0.event_mask\n",
    "\n",
    "osc0.reset()\n",
    "osc0.start()\n",
    "#osc0.trigger()\n",
    "while (osc0.status_run()): pass\n",
    "#osc0.stop()"
   ]
  },
  {
   "cell_type": "code",
   "execution_count": null,
   "metadata": {
    "collapsed": true
   },
   "outputs": [],
   "source": [
    "osc0.show_regset()"
   ]
  },
  {
   "cell_type": "code",
   "execution_count": null,
   "metadata": {
    "collapsed": true
   },
   "outputs": [],
   "source": [
    "import matplotlib.pyplot as plt\n",
    "\n",
    "# show entire buffer while ignoring write pointer position\n",
    "data = osc0.data(ptr=0)\n",
    "plt.plot(data)\n",
    "plt.title('DATA');\n",
    "plt.show()\n",
    "\n",
    "# show entire buffer properly alligned with write pointer\n",
    "data = osc0.data()\n",
    "plt.plot(data)\n",
    "plt.title('DATA');\n",
    "plt.show()\n",
    "\n",
    "# show only the part of the buffer requested by pre/post trigger timing\n",
    "data = osc0.data(N)\n",
    "plt.plot(data)\n",
    "plt.title('DATA');\n",
    "plt.show()\n"
   ]
  },
  {
   "cell_type": "code",
   "execution_count": null,
   "metadata": {
    "collapsed": true
   },
   "outputs": [],
   "source": [
    "data[0:4], data[-5:-1]"
   ]
  },
  {
   "cell_type": "code",
   "execution_count": null,
   "metadata": {
    "collapsed": true
   },
   "outputs": [],
   "source": [
    "del(gen0)\n",
    "del(osc0)"
   ]
  },
  {
   "cell_type": "code",
   "execution_count": null,
   "metadata": {
    "collapsed": true
   },
   "outputs": [],
   "source": [
    "del(overlay)"
   ]
  }
 ],
 "metadata": {
  "kernelspec": {
   "display_name": "Python 3",
   "language": "python",
   "name": "python3"
  },
  "language_info": {
   "codemirror_mode": {
    "name": "ipython",
    "version": 3
   },
   "file_extension": ".py",
   "mimetype": "text/x-python",
   "name": "python",
   "nbconvert_exporter": "python",
   "pygments_lexer": "ipython3",
   "version": "3.5.2"
  }
 },
 "nbformat": 4,
 "nbformat_minor": 2
}
