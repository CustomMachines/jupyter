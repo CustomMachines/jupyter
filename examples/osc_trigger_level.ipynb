{
 "cells": [
  {
   "cell_type": "markdown",
   "metadata": {
    "deletable": true,
    "editable": true
   },
   "source": [
    "# Oscilloscope level trigger"
   ]
  },
  {
   "cell_type": "code",
   "execution_count": null,
   "metadata": {
    "collapsed": true,
    "deletable": true,
    "editable": true,
    "scrolled": false
   },
   "outputs": [],
   "source": [
    "from redpitaya.overlay.mercury import mercury as overlay\n",
    "fpga = overlay()"
   ]
  },
  {
   "cell_type": "markdown",
   "metadata": {
    "deletable": true,
    "editable": true
   },
   "source": [
    "Make an instance of the oscilloscope, the first argument is the channel index in range [0,1]. The second argument is the voltage range in volts, should be either 1.0 (default if unspecified) or 20.0."
   ]
  },
  {
   "cell_type": "code",
   "execution_count": null,
   "metadata": {
    "collapsed": true,
    "deletable": true,
    "editable": true
   },
   "outputs": [],
   "source": [
    "osc0 = fpga.osc(0, 1.0)"
   ]
  },
  {
   "cell_type": "markdown",
   "metadata": {
    "deletable": true,
    "editable": true
   },
   "source": [
    "User should specify:\n",
    "1. Sample rate decimation is an integer in range [1, 2\\*\\*17] = [1, 131072].\n",
    "2. Number of samples stored before and after trigger, for a forced trigger only post trigger samples are enough.\n",
    "3. Trigger level voltage, edge and holdoff time."
   ]
  },
  {
   "cell_type": "code",
   "execution_count": null,
   "metadata": {
    "collapsed": true,
    "deletable": true,
    "editable": true
   },
   "outputs": [],
   "source": [
    "# TODO: for now bypass input filter\n",
    "osc0.filter_bypass = True\n",
    "\n",
    "# data rate decimation \n",
    "osc0.decimation = 1\n",
    "\n",
    "# trigger timing [sample periods]\n",
    "N = osc0.buffer_size\n",
    "osc0.trigger_pre  = N//4 * 1\n",
    "osc0.trigger_post = N//4 * 3\n",
    "\n",
    "# trigger level [V], edge ['neg', 'pos'] and holdoff time [sample periods]\n",
    "osc0.level   = 0.5\n",
    "osc0.edg     = 'pos'\n",
    "osc0.holdoff = 20\n",
    "\n",
    "# trigger source is the level trigger from the same input\n",
    "osc0.trig_src = fpga.trig_src[\"osc0\"]"
   ]
  },
  {
   "cell_type": "markdown",
   "metadata": {
    "deletable": true,
    "editable": true
   },
   "source": [
    "The oscilloscope should be reset and started.\n",
    "A loop is checking if a hardware trigger has arrived and if the desired number of data samples was already stored in the buffer.\n",
    "\n",
    "The same number of samples as the sum of pre/post trigger delays should be read from the buffer.\n",
    "The data read is aligned to the last sample, which will be always present as the last sample in the returned array."
   ]
  },
  {
   "cell_type": "code",
   "execution_count": null,
   "metadata": {
    "collapsed": true,
    "deletable": true,
    "editable": true
   },
   "outputs": [],
   "source": [
    "# reset and start\n",
    "osc0.reset()\n",
    "osc0.start()\n",
    "# wait for data\n",
    "while (osc0.status_run()): pass\n",
    "print (triggered)\n",
    "\n",
    "import matplotlib.pyplot as plt\n",
    "\n",
    "# show only the part of the buffer requested by pre/post trigger timing\n",
    "data = osc0.data(N)\n",
    "plt.plot(data)\n",
    "plt.title('DATA');\n",
    "plt.show()"
   ]
  }
 ],
 "metadata": {
  "kernelspec": {
   "display_name": "Python 3",
   "language": "python",
   "name": "python3"
  },
  "language_info": {
   "codemirror_mode": {
    "name": "ipython",
    "version": 3
   },
   "file_extension": ".py",
   "mimetype": "text/x-python",
   "name": "python",
   "nbconvert_exporter": "python",
   "pygments_lexer": "ipython3",
   "version": "3.5.2"
  }
 },
 "nbformat": 4,
 "nbformat_minor": 2
}
