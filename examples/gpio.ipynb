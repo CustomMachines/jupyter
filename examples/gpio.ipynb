{
 "cells": [
  {
   "cell_type": "markdown",
   "metadata": {
    "deletable": true,
    "editable": true
   },
   "source": [
    "### Overlay\n",
    "\n",
    "FPGA bitstream and device tree overlay describing supported drivers is loaded here."
   ]
  },
  {
   "cell_type": "code",
   "execution_count": null,
   "metadata": {
    "collapsed": false,
    "deletable": true,
    "editable": true
   },
   "outputs": [],
   "source": [
    "from redpitaya.overlay.mercury import mercury as FPGA\n",
    "overlay = FPGA()"
   ]
  },
  {
   "cell_type": "markdown",
   "metadata": {
    "deletable": true,
    "editable": true
   },
   "source": [
    "# GPIO\n",
    "\n",
    "GPIO access is implemented through [`sysfs`](https://www.kernel.org/doc/Documentation/gpio/sysfs.txt) Linux kernel interface\n",
    "provided by the [GPIO subsystem](https://www.kernel.org/doc/Documentation/gpio/gpio.txt).\n",
    "\n",
    "Our driver is just a simple wrapper around [`python-periphery 1.1.0`](https://github.com/vsergeev/python-periphery).\n",
    "\n",
    "A new [user space ABI for GPIO](https://git.kernel.org/cgit/linux/kernel/git/linusw/linux-gpio.git/tree/include/uapi/linux/gpio.h?h=for-next)\n",
    "is coming in kernel v4.8, ioctl will be used instead of ``sysfs``.\n",
    "The new driver will allow for seting multiple GPIO signals simultaneously."
   ]
  },
  {
   "cell_type": "code",
   "execution_count": null,
   "metadata": {
    "collapsed": false,
    "deletable": true,
    "editable": true
   },
   "outputs": [],
   "source": [
    "from redpitaya.drv.gpio import gpio as GPIO\n",
    "\n",
    "# Open exp_p_io[0:7] as outputs\n",
    "gpios_i = [GPIO('p', i, \"in\") for i in range(8)]\n",
    "\n",
    "# Open exp_n_io[0:7] as inputs\n",
    "gpios_o = [GPIO('n', i, \"out\") for i in range(8)]\n",
    "\n",
    "# copy input values to outputs\n",
    "for i in range(8):\n",
    "    value = gpios_i[i].read()\n",
    "    gpios_o[i].write(value)\n",
    "\n",
    "# close GPIO files\n",
    "for i in range(8):\n",
    "    gpios_i[i].close()\n",
    "    gpios_o[i].close()"
   ]
  }
 ],
 "metadata": {
  "kernelspec": {
   "display_name": "Python 3",
   "language": "python",
   "name": "python3"
  },
  "language_info": {
   "codemirror_mode": {
    "name": "ipython",
    "version": 3
   },
   "file_extension": ".py",
   "mimetype": "text/x-python",
   "name": "python",
   "nbconvert_exporter": "python",
   "pygments_lexer": "ipython3",
   "version": "3.5.2"
  }
 },
 "nbformat": 4,
 "nbformat_minor": 2
}
