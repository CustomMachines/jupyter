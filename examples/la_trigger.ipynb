{
 "cells": [
  {
   "cell_type": "markdown",
   "metadata": {},
   "source": [
    "# Logic analyzer trigger"
   ]
  },
  {
   "cell_type": "code",
   "execution_count": null,
   "metadata": {
    "scrolled": false
   },
   "outputs": [],
   "source": [
    "from redpitaya.overlay.mercury import mercury as overlay\n",
    "fpga = overlay()"
   ]
  },
  {
   "cell_type": "code",
   "execution_count": null,
   "metadata": {
    "collapsed": true
   },
   "outputs": [],
   "source": [
    "la = fpga.la()"
   ]
  },
  {
   "cell_type": "code",
   "execution_count": null,
   "metadata": {},
   "outputs": [],
   "source": [
    "# input mask and polarity\n",
    "la.input_mask     = 0xffff\n",
    "#la.input_polarity = 0x0000\n",
    "\n",
    "# data rate decimation\n",
    "la.decimation = 1\n",
    "\n",
    "# trigger timing [sample periods]\n",
    "N = la.buffer_size\n",
    "la.trigger_pre  = N//4 * 1\n",
    "la.trigger_post = N//4 * 3\n",
    "\n",
    "# trigger level [V], edge ['neg', 'pos'] and holdoff time [sample periods]\n",
    "la.trigger_mask  =  0x0000\n",
    "la.trigger_value =  0x0000\n",
    "la.trigger_edge  = [0x0001, 0x0000]  # enable trigger on edge [pos, neg]\n",
    "\n",
    "# trigger source is the level trigger from the same input\n",
    "la.trig_src = fpga.trig_src[\"la\"]"
   ]
  },
  {
   "cell_type": "code",
   "execution_count": null,
   "metadata": {},
   "outputs": [],
   "source": [
    "# reset and start\n",
    "la.reset()\n",
    "la.start()\n",
    "# wait for data\n",
    "while (la.status_run()): pass\n",
    "\n",
    "# show only the part of the buffer requested by pre/post trigger timing\n",
    "data = la.data(N)\n",
    "\n",
    "print (data)"
   ]
  }
 ],
 "metadata": {
  "kernelspec": {
   "display_name": "Python 3",
   "language": "python",
   "name": "python3"
  },
  "language_info": {
   "codemirror_mode": {
    "name": "ipython",
    "version": 3
   },
   "file_extension": ".py",
   "mimetype": "text/x-python",
   "name": "python",
   "nbconvert_exporter": "python",
   "pygments_lexer": "ipython3",
   "version": "3.5.2"
  }
 },
 "nbformat": 4,
 "nbformat_minor": 2
}
