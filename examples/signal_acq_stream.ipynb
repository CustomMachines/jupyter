{
 "cells": [
  {
   "cell_type": "markdown",
   "metadata": {},
   "source": [
    "# On trigger signal acquisition\n",
    "\n",
    "## Description\n",
    "\n",
    "This example shows how to acquire 16k samples of signal on fast analog inputs.\n",
    "Signal will be acquired when the internal trigger condition is meet.\n",
    "Time length of the acquired signal depends on the time scale of a buffer\n",
    "that can be set with a decimation factor.\n",
    "Decimations and time scales of a buffer are given in the table below.\n",
    "Voltage range of fast analog inputs on the Red Pitaya depends on gain setting that can be set by jumpers.\n",
    "HV setting is for input range to ±20V, while LV sets input range to ±1V.\n",
    "\n",
    "| Decimation | Sampling Rate | Time scale/buffer length | Trigger delay in samples | Trigger delay in seconds | \n",
    "| ---------- | ------------- | ------------------------ | ------------------------ | ------------------------ |\n",
    "| 1          | 125 MS/s      | 131.072 us               | from - 8192 to x         | -6.554E-5 to x           | \n",
    "| 8          | 15.6 MS/s     | 1.049 ms                 | from - 8192 to x         | -5.243E-4 to x           | \n",
    "| 64         | 1.9 MS/s      | 8.389 ms                 | from - 8192 to x         | -4.194E-3 to x           | \n",
    "| 1024       | 122.0 MS/s    | 134.218 ms               | from - 8192 to x         | -6.711E-2 to x           | \n",
    "| 8192       | 15.2 kS/s     | 1.074 s                  | from - 8192 to x         | -5.369E-1 to x           | \n",
    "| 65536      | 7.6 kS/s      | 8.590 s                  | from - 8192 to x         | -4.295E+0 to x           | \n",
    "\n",
    "## Required hardware\n",
    "\n",
    "- Red Pitaya\n",
    "- Signal (function) generator\n",
    "\n",
    "![wiring diagram](img/on_given_trigger_acquire_signal_on_fast_analog_input.png)"
   ]
  },
  {
   "cell_type": "code",
   "execution_count": null,
   "metadata": {
    "collapsed": false
   },
   "outputs": [],
   "source": [
    "from redpitaya import redpitaya\n",
    "from time import sleep\n",
    "\n",
    "rp = redpitaya()\n",
    "\n",
    "# generator configuration\n",
    "rp.GenReset()\n",
    "rp.GenFreq(rp.CH_1, 100000.0)\n",
    "rp.GenAmp(rp.CH_1, 1.0)\n",
    "rp.GenWaveform(rp.CH_1, rp.WAVEFORM_SINE)\n",
    "rp.GenOutEnable(rp.CH_1)"
   ]
  },
  {
   "cell_type": "code",
   "execution_count": null,
   "metadata": {
    "collapsed": false
   },
   "outputs": [],
   "source": [
    "# acquisition configuration\n",
    "rp.AcqReset()\n",
    "rp.AcqSetDecimation(1)\n",
    "rp.AcqSetTriggerLevel(rp.CH_1, 0.1)\n",
    "rp.AcqSetTriggerDelay(rp.CH_1)\n",
    "\n",
    "# start acquisition process\n",
    "rp.AcqStart()\n",
    "size = rp.AcqGetBufSize()\n",
    "size = 512\n",
    "channels = (0, 1)\n",
    "\n",
    "sleep(1)\n",
    "# set trigger source to start acquisition\n",
    "rp.AcqSetTriggerSrc(rp.TRIG_SRC_CHA_PE)\n",
    "\n",
    "# wait in a loop for trigger state to chage from TRIG_STATE_WAITING\n",
    "while rp.AcqGetTriggerState() == rp.TRIG_STATE_WAITING:\n",
    "    pass\n",
    "print('triggered')\n",
    "\n",
    "# read data from FPGA FIFO into memory and display it\n",
    "buff = [rp.AcqGetOldestDataV(ch, size) for ch in channels];"
   ]
  },
  {
   "cell_type": "code",
   "execution_count": null,
   "metadata": {
    "collapsed": false
   },
   "outputs": [],
   "source": [
    "import time\n",
    "\n",
    "import numpy as np\n",
    "from bokeh.io import push_notebook, show, output_notebook\n",
    "from bokeh.models import HoverTool, Range1d\n",
    "from bokeh.plotting import figure\n",
    "output_notebook()"
   ]
  },
  {
   "cell_type": "code",
   "execution_count": null,
   "metadata": {
    "collapsed": false
   },
   "outputs": [],
   "source": [
    "N = size\n",
    "x = np.linspace(0,N,N)\n",
    "\n",
    "colors = ('red', 'blue')\n",
    "hover = HoverTool(mode = 'vline', tooltips=[(\"T\", \"@x\"), (\"V\", \"@y\")])\n",
    "tools = \"pan,wheel_zoom,box_zoom,reset,crosshair\"\n",
    "p = figure(plot_height=400, plot_width=900, title=\"oscilloscope\", toolbar_location=\"above\", tools=(tools, hover))\n",
    "p.x_range=Range1d(0, N)\n",
    "p.y_range=Range1d(-1.1, 1.1)\n",
    "r = [p.line(x, buff[i], line_width=1, line_alpha=0.7, color=colors[i]) for i in channels]\n",
    "\n",
    "# get and explicit handle to update the next show cell with\n",
    "target = show(p, notebook_handle=True)"
   ]
  },
  {
   "cell_type": "code",
   "execution_count": null,
   "metadata": {
    "collapsed": false
   },
   "outputs": [],
   "source": [
    "while True:\n",
    "    rp.AcqStart()\n",
    "    rp.AcqSetTriggerSrc(rp.TRIG_SRC_CHA_PE)\n",
    "    while rp.AcqGetTriggerState() == rp.TRIG_STATE_WAITING: pass\n",
    "    buff = [rp.AcqGetOldestDataV(ch, size) for ch in channels];\n",
    "#    buff = np.absolute(np.fft.fft(buff))\n",
    "    for i in channels:\n",
    "        r[i].data_source.data['y'] = buff[i]\n",
    "    # push updates to the plot continuously using the handle (intererrupt the notebook kernel to stop)\n",
    "    push_notebook(handle=target)\n",
    "#    time.sleep(0.05)"
   ]
  }
 ],
 "metadata": {
  "kernelspec": {
   "display_name": "Python 3",
   "language": "python",
   "name": "python3"
  },
  "language_info": {
   "codemirror_mode": {
    "name": "ipython",
    "version": 3
   },
   "file_extension": ".py",
   "mimetype": "text/x-python",
   "name": "python",
   "nbconvert_exporter": "python",
   "pygments_lexer": "ipython3",
   "version": "3.5.2"
  }
 },
 "nbformat": 4,
 "nbformat_minor": 2
}
