{
 "cells": [
  {
   "cell_type": "code",
   "execution_count": null,
   "metadata": {
    "collapsed": true
   },
   "outputs": [],
   "source": [
    "#!/usr/bin/python3\n",
    "\n",
    "from ctypes import *\n",
    "from redpitaya import *\n",
    "from time import sleep\n",
    "from math import pi, sin\n",
    "\n",
    "base.Init()\n",
    "\n",
    "buf_size = base.AcqGetBufSize()\n",
    "\n",
    "t = []\n",
    "x = []\n",
    "y = []\n",
    "for i in range(buf_size):\n",
    "\tt.append((2*pi)/buf_size*i)\n",
    "\tx.append(sin(t[i]) + ((1.0/3.0) * sin(t[i] * 3)))\n",
    "\ty.append((1.0/2.0) * sin(t[i]) + (1.0/4.0) * sin(t[i] * 4))\n",
    "\n",
    "base.GenWaveform(CH_1, WAVEFORM_ARBITRARY)\n",
    "base.GenWaveform(CH_2, WAVEFORM_ARBITRARY)\n",
    "\n",
    "base.GenArbWaveform(CH_1, x);\n",
    "base.GenArbWaveform(CH_2, y);\n",
    "\n",
    "base.GenAmp(CH_1, 0.7);\n",
    "base.GenAmp(CH_2, 1.0);\n",
    "\n",
    "base.GenFreq(CH_1, 4000.0);\n",
    "base.GenFreq(CH_2, 4000.0);\n",
    "\n",
    "base.GenOutEnable(CH_1);\n",
    "base.GenOutEnable(CH_2);\n",
    "\n",
    "base.Release()"
   ]
  }
 ],
 "metadata": {
  "kernelspec": {
   "display_name": "Python 3",
   "language": "python",
   "name": "python3"
  },
  "language_info": {
   "codemirror_mode": {
    "name": "ipython",
    "version": 3
   },
   "file_extension": ".py",
   "mimetype": "text/x-python",
   "name": "python",
   "nbconvert_exporter": "python",
   "pygments_lexer": "ipython3",
   "version": "3.5.2"
  }
 },
 "nbformat": 4,
 "nbformat_minor": 2
}
