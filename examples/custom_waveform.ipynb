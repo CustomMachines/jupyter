{
 "cells": [
  {
   "cell_type": "code",
   "execution_count": null,
   "metadata": {
    "collapsed": false
   },
   "outputs": [],
   "source": [
    "from redpitaya import *\n",
    "from math import pi, sin\n",
    "from time import sleep\n",
    "\n",
    "buf_size = base.AcqGetBufSize()\n",
    "\n",
    "t = []\n",
    "x = []\n",
    "y = []\n",
    "for i in range(buf_size):\n",
    "    t.append((2*pi)/buf_size*i)\n",
    "    x.append(sin(t[i]) + ((1.0/3.0) * sin(t[i] * 3)))\n",
    "    y.append((1.0/2.0) * sin(t[i]) + (1.0/4.0) * sin(t[i] * 4))\n",
    "\n",
    "base.GenWaveform(CH_1, WAVEFORM_ARBITRARY)\n",
    "base.GenWaveform(CH_2, WAVEFORM_ARBITRARY)\n",
    "\n",
    "base.GenArbWaveform(CH_1, x);\n",
    "base.GenArbWaveform(CH_2, y);\n",
    "\n",
    "base.GenAmp(CH_1, 0.7);\n",
    "base.GenAmp(CH_2, 1.0);\n",
    "\n",
    "base.GenFreq(CH_1, 4000.0);\n",
    "base.GenFreq(CH_2, 4000.0);\n",
    "\n",
    "base.GenOutEnable(CH_1);\n",
    "base.GenOutEnable(CH_2);\n",
    "\n",
    "\n",
    "base.AcqReset()\n",
    "base.AcqSetDecimation(1)\n",
    "base.AcqSetTriggerLevel(CH_1, 0.1)\n",
    "base.AcqSetTriggerDelay(CH_1)\n",
    "\n",
    "base.AcqStart()\n",
    "\n",
    "sleep(1)\n",
    "base.AcqSetTriggerSrc(TRIG_SRC_CHA_PE)\n",
    "\n",
    "while base.AcqGetTriggerState() == TRIG_STATE_WAITING:\n",
    "    pass\n",
    "print('triggered')\n",
    "\n",
    "size = base.AcqGetBufSize()\n",
    "buff1 = base.AcqGetOldestDataV(CH_1, size);\n",
    "plot(buff1)\n",
    "buff2 = base.AcqGetOldestDataV(CH_2, size);\n",
    "plot(buff2)"
   ]
  }
 ],
 "metadata": {
  "kernelspec": {
   "display_name": "Python 3",
   "language": "python",
   "name": "python3"
  },
  "language_info": {
   "codemirror_mode": {
    "name": "ipython",
    "version": 3
   },
   "file_extension": ".py",
   "mimetype": "text/x-python",
   "name": "python",
   "nbconvert_exporter": "python",
   "pygments_lexer": "ipython3",
   "version": "3.5.2"
  }
 },
 "nbformat": 4,
 "nbformat_minor": 2
}
