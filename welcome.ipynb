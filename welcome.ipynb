{
 "cells": [
  {
   "cell_type": "markdown",
   "metadata": {},
   "source": [
    "## Welcome to Jupyter notebook on Red Pitaya\n",
    "\n",
    "Jupyter notebooks contain Python code which provides access to Red Pitaya hardware either directly through the C API.\n",
    "\n",
    "A basic Python tutorial [A Whirlwind Tour of Python](WhirlwindTourOfPython/Index.ipynb) is provided (copied [from Jake Vanderplas on GitHub](https://github.com/jakevdp/WhirlwindTourOfPython)).\n",
    "\n",
    "The [`examples`](examples) directory is read only, if you just wish to run existing examples unchanged, it can be used as is.\n",
    "But if you wish to edit the examples, you should first copy in into the [`notebooks`](notebooks) directory by running the next cell.\n",
    "\n",
    "To execute a cell click on it to change focus, and press the run button (⏵) above or press the key combination `Shift+Enter`."
   ]
  },
  {
   "cell_type": "code",
   "execution_count": null,
   "metadata": {
    "collapsed": false
   },
   "outputs": [],
   "source": [
    "import shutil\n",
    "shutil.copytree(\"/opt/redpitaya/jupyter/examples\", \"notebooks\")\n",
    "import os\n",
    "os.system(\"/bin/chmod -x notebooks/*\")"
   ]
  },
  {
   "cell_type": "code",
   "execution_count": null,
   "metadata": {
    "collapsed": true
   },
   "outputs": [],
   "source": [
    "import shutil\n",
    "shutil.copytree(\"/opt/redpitaya/jupyter/experiments\", \"test\")\n",
    "import os\n",
    "os.system(\"/bin/chmod -x test/*\")"
   ]
  }
 ],
 "metadata": {
  "kernelspec": {
   "display_name": "Python 3",
   "language": "python",
   "name": "python3"
  },
  "language_info": {
   "codemirror_mode": {
    "name": "ipython",
    "version": 3
   },
   "file_extension": ".py",
   "mimetype": "text/x-python",
   "name": "python",
   "nbconvert_exporter": "python",
   "pygments_lexer": "ipython3",
   "version": "3.5.2"
  }
 },
 "nbformat": 4,
 "nbformat_minor": 2
}
