{
 "cells": [
  {
   "cell_type": "markdown",
   "metadata": {
    "collapsed": true,
    "deletable": true,
    "editable": true
   },
   "source": [
    "## Welcome to Jupyter notebook on STEMlab\n",
    "\n",
    "Jupyter notebooks contain Python code which provides access to STEMlab hardware.\n",
    "\n",
    "A basic Python tutorial [A Whirlwind Tour of Python](../WhirlwindTourOfPython/Index.ipynb) is provided (copied [from Jake Vanderplas on GitHub](https://github.com/jakevdp/WhirlwindTourOfPython)).\n",
    "\n",
    "To execute a cell click on it to change focus, and press the run button (⏵) above or press the key combination `Shift+Enter`."
   ]
  },
  {
   "cell_type": "markdown",
   "metadata": {
    "deletable": true,
    "editable": true
   },
   "source": [
    "Examples\n",
    "\n",
    "1. [Drive LEDs on STEMlab](examples/led.ipynb)\n",
    "* [Control GPIOs](examples/gpio.ipynb)\n",
    "* [Write slow analog I/Os](examples/analog_output.ipynb)\n",
    "* [Read slow analog I/Os](examples/analog_input.ipynb)\n",
    "* Generator\n",
    "    1. [Generate periodic sine wave](examples/gen_sin.ipynb)\n",
    "    *  [Generate periodic arbitrary signal](examples/gen_arb.ipynb)\n",
    "    *  [Sync two generators](examples/gen2.ipynb)\n",
    "6. Oscilloscope\n",
    "    1. [Forced trigger](examples/osc_trigger_forced.ipynb)\n",
    "    2. [Level triggerer](examples/osc_triger_level.ipynb)\n",
    "    3. [Two synchronized channels](examples/osc_sync_two_channel.ipynb)\n",
    "    3. [Synchronized with generator](examples/osc_sync_with_gen.ipynb)"
   ]
  }
 ],
 "metadata": {
  "kernelspec": {
   "display_name": "Python 3",
   "language": "python",
   "name": "python3"
  },
  "language_info": {
   "codemirror_mode": {
    "name": "ipython",
    "version": 3
   },
   "file_extension": ".py",
   "mimetype": "text/x-python",
   "name": "python",
   "nbconvert_exporter": "python",
   "pygments_lexer": "ipython3",
   "version": "3.5.2"
  }
 },
 "nbformat": 4,
 "nbformat_minor": 2
}
