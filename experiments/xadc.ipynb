{
 "cells": [
  {
   "cell_type": "code",
   "execution_count": 3,
   "metadata": {
    "collapsed": false
   },
   "outputs": [
    {
     "name": "stdout",
     "output_type": "stream",
     "text": [
      "Library version: 0.7 (git tag: v0.7)\n",
      "IIO context created: b'local'\n",
      "Backend version: 0.7 (git tag: v0.7)\n",
      "Backend description string: Linux rp-f00321 4.4.0-xilinx #1 SMP PREEMPT Wed Jan 18 15:20:40 CET 2017 armv7l\n",
      "IIO context has 4 devices:\n",
      "\ttrigger0: xadc1-convst\n",
      "\t\t0 channels found:\n",
      "\ttrigger1: xadc1-samplerate\n",
      "\t\t0 channels found:\n",
      "\tiio:device0: xadc\n",
      "\t\t9 channels found:\n",
      "\t\t\ttemp0:  (input)\n",
      "\t\t\t3 channel-specific attributes found:\n",
      "\t\t\t\traw, value: 2746\n",
      "\t\t\t\tscale, value: 123.040771484\n",
      "\t\t\t\toffset, value: -2219\n",
      "\t\t\tvoltage0: vccint (input)\n",
      "\t\t\t2 channel-specific attributes found:\n",
      "\t\t\t\traw, value: 1381\n",
      "\t\t\t\tscale, value: 0.732421875\n",
      "\t\t\tvoltage1: vccaux (input)\n",
      "\t\t\t2 channel-specific attributes found:\n",
      "\t\t\t\traw, value: 2478\n",
      "\t\t\t\tscale, value: 0.732421875\n",
      "\t\t\tvoltage2: vccbram (input)\n",
      "\t\t\t2 channel-specific attributes found:\n",
      "\t\t\t\traw, value: 1382\n",
      "\t\t\t\tscale, value: 0.732421875\n",
      "\t\t\tvoltage3: vccpint (input)\n",
      "\t\t\t2 channel-specific attributes found:\n",
      "\t\t\t\traw, value: 1379\n",
      "\t\t\t\tscale, value: 0.732421875\n",
      "\t\t\tvoltage4: vccpaux (input)\n",
      "\t\t\t2 channel-specific attributes found:\n",
      "\t\t\t\traw, value: 2477\n",
      "\t\t\t\tscale, value: 0.732421875\n",
      "\t\t\tvoltage5: vccoddr (input)\n",
      "\t\t\t2 channel-specific attributes found:\n",
      "\t\t\t\traw, value: 2052\n",
      "\t\t\t\tscale, value: 0.732421875\n",
      "\t\t\tvoltage6: vrefp (input)\n",
      "\t\t\t2 channel-specific attributes found:\n",
      "\t\t\t\traw, value: 0\n",
      "\t\t\t\tscale, value: 0.732421875\n",
      "\t\t\tvoltage7: vrefn (input)\n",
      "\t\t\t2 channel-specific attributes found:\n",
      "\t\t\t\traw, value: 0\n",
      "\t\t\t\tscale, value: 0.732421875\n",
      "\t\t1 device-specific attributes found:\n",
      "\t\t\tsampling_frequency, value: \n",
      "\tiio:device1: xadc\n",
      "\t\t14 channels found:\n",
      "\t\t\ttemp0:  (input)\n",
      "\t\t\t6 channel-specific attributes found:\n",
      "\t\t\t\tscale, value: 123.040771484\n",
      "\t\t\t\tindex, value: 8\n",
      "\t\t\t\toffset, value: -2219\n",
      "\t\t\t\ttype, value: le:u12/16>>4\n",
      "\t\t\t\traw, value: 2749\n",
      "\t\t\t\ten, value: 0\n",
      "\t\t\tvoltage0: vccint (input)\n",
      "\t\t\t5 channel-specific attributes found:\n",
      "\t\t\t\traw, value: 1382\n",
      "\t\t\t\tscale, value: 0.732421875\n",
      "\t\t\t\tindex, value: 9\n",
      "\t\t\t\ten, value: 0\n",
      "\t\t\t\ttype, value: le:u12/16>>4\n",
      "\t\t\tvoltage1: vccaux (input)\n",
      "\t\t\t5 channel-specific attributes found:\n",
      "\t\t\t\traw, value: 2478\n",
      "\t\t\t\tscale, value: 0.732421875\n",
      "\t\t\t\tindex, value: 10\n",
      "\t\t\t\ten, value: 0\n",
      "\t\t\t\ttype, value: le:u12/16>>4\n",
      "\t\t\tvoltage10: vaux1 (input)\n",
      "\t\t\t5 channel-specific attributes found:\n",
      "\t\t\t\traw, value: 28\n",
      "\t\t\t\tindex, value: 17\n",
      "\t\t\t\ten, value: 0\n",
      "\t\t\t\tscale, value: 0.244140625\n",
      "\t\t\t\ttype, value: le:u12/16>>4\n",
      "\t\t\tvoltage11: vaux8 (input)\n",
      "\t\t\t5 channel-specific attributes found:\n",
      "\t\t\t\traw, value: 25\n",
      "\t\t\t\tindex, value: 24\n",
      "\t\t\t\ten, value: 0\n",
      "\t\t\t\tscale, value: 0.244140625\n",
      "\t\t\t\ttype, value: le:u12/16>>4\n",
      "\t\t\tvoltage12: vaux9 (input)\n",
      "\t\t\t5 channel-specific attributes found:\n",
      "\t\t\t\traw, value: 26\n",
      "\t\t\t\tscale, value: 0.244140625\n",
      "\t\t\t\tindex, value: 25\n",
      "\t\t\t\ten, value: 0\n",
      "\t\t\t\ttype, value: le:u12/16>>4\n",
      "\t\t\tvoltage2: vccbram (input)\n",
      "\t\t\t5 channel-specific attributes found:\n",
      "\t\t\t\traw, value: 1383\n",
      "\t\t\t\tindex, value: 14\n",
      "\t\t\t\ten, value: 0\n",
      "\t\t\t\tscale, value: 0.732421875\n",
      "\t\t\t\ttype, value: le:u12/16>>4\n",
      "\t\t\tvoltage3: vccpint (input)\n",
      "\t\t\t5 channel-specific attributes found:\n",
      "\t\t\t\traw, value: 1381\n",
      "\t\t\t\tindex, value: 5\n",
      "\t\t\t\ten, value: 0\n",
      "\t\t\t\tscale, value: 0.732421875\n",
      "\t\t\t\ttype, value: le:u12/16>>4\n",
      "\t\t\tvoltage4: vccpaux (input)\n",
      "\t\t\t5 channel-specific attributes found:\n",
      "\t\t\t\traw, value: 2476\n",
      "\t\t\t\tscale, value: 0.732421875\n",
      "\t\t\t\tindex, value: 6\n",
      "\t\t\t\ten, value: 0\n",
      "\t\t\t\ttype, value: le:u12/16>>4\n",
      "\t\t\tvoltage5: vccoddr (input)\n",
      "\t\t\t5 channel-specific attributes found:\n",
      "\t\t\t\traw, value: 2050\n",
      "\t\t\t\tindex, value: 7\n",
      "\t\t\t\ten, value: 0\n",
      "\t\t\t\tscale, value: 0.732421875\n",
      "\t\t\t\ttype, value: le:u12/16>>4\n",
      "\t\t\tvoltage6: vrefp (input)\n",
      "\t\t\t5 channel-specific attributes found:\n",
      "\t\t\t\traw, value: 0\n",
      "\t\t\t\tscale, value: 0.732421875\n",
      "\t\t\t\tindex, value: 12\n",
      "\t\t\t\ten, value: 0\n",
      "\t\t\t\ttype, value: le:u12/16>>4\n",
      "\t\t\tvoltage7: vrefn (input)\n",
      "\t\t\t5 channel-specific attributes found:\n",
      "\t\t\t\traw, value: 0\n",
      "\t\t\t\tscale, value: 0.732421875\n",
      "\t\t\t\tindex, value: 13\n",
      "\t\t\t\ten, value: 0\n",
      "\t\t\t\ttype, value: le:s12/16>>4\n",
      "\t\t\tvoltage8: vpvn (input)\n",
      "\t\t\t5 channel-specific attributes found:\n",
      "\t\t\t\traw, value: 1611\n",
      "\t\t\t\tscale, value: 0.244140625\n",
      "\t\t\t\tindex, value: 11\n",
      "\t\t\t\ten, value: 0\n",
      "\t\t\t\ttype, value: le:u12/16>>4\n",
      "\t\t\tvoltage9: vaux0 (input)\n",
      "\t\t\t5 channel-specific attributes found:\n",
      "\t\t\t\traw, value: 44\n",
      "\t\t\t\tscale, value: 0.244140625\n",
      "\t\t\t\tindex, value: 16\n",
      "\t\t\t\ten, value: 0\n",
      "\t\t\t\ttype, value: le:u12/16>>4\n",
      "\t\t1 device-specific attributes found:\n",
      "\t\t\tsampling_frequency, value: \n"
     ]
    }
   ],
   "source": [
    "import iio\n",
    "\n",
    "def main():\n",
    "\tctx = iio.Context()\n",
    "\n",
    "\tprint ('Library version: {}.{} (git tag: {})'.format(iio.version[0], iio.version[1], iio.version[2].decode()))\n",
    "\n",
    "\tprint ('IIO context created: %s' % ctx.name)\n",
    "\tprint ('Backend version: {}.{} (git tag: {})'.format(ctx.version[0], ctx.version[1], ctx.version[2].decode()))\n",
    "\tprint ('Backend description string: {}'.format(ctx.description.decode()))\n",
    "\n",
    "\tprint ('IIO context has %u devices:' % len(ctx.devices))\n",
    "\n",
    "\tfor dev in ctx.devices:\n",
    "\t\tprint ('\\t{}: {}'.format(dev.id.decode(), dev.name.decode()))\n",
    "\n",
    "\t\tif dev is iio.Trigger:\n",
    "\t\t\tprint ('Found trigger! Rate: {} Hz'.format(dev.frequency))\n",
    "\n",
    "\t\tprint ('\\t\\t{} channels found:'.format(len(dev.channels)))\n",
    "\n",
    "\t\tfor chn in dev.channels:\n",
    "\t\t\tprint ('\\t\\t\\t{}: {} ({})'.format(chn.id.decode(), chn.name.decode() if chn.name else \"\", 'output' if chn.output else 'input'))\n",
    "\n",
    "\t\t\tif len(chn.attrs) != 0:\n",
    "\t\t\t\tprint ('\\t\\t\\t{} channel-specific attributes found:'.format(len(chn.attrs)))\n",
    "\n",
    "\t\t\tfor attr in chn.attrs:\n",
    "\t\t\t\tprint ('\\t\\t\\t\\t{}, value: {}'.format(attr.decode(), chn.attrs[attr].value.decode()))\n",
    "\n",
    "\t\tif len(dev.attrs) != 0:\n",
    "\t\t\tprint ('\\t\\t{} device-specific attributes found:'.format(len(dev.attrs)))\n",
    "\n",
    "\t\tfor attr in dev.attrs:\n",
    "\t\t\tprint ('\\t\\t\\t{}, value: '.format(attr.decode(), dev.attrs[attr].value.decode()))\n",
    "\n",
    "\t\tif len(dev.debug_attrs) != 0:\n",
    "\t\t\tprint ('\\t\\t{} debug attributes found:'.format(len(dev.debug_attrs)))\n",
    "\n",
    "\t\tfor attr in dev.debug_attrs:\n",
    "\t\t\tprint ('\\t\\t\\t{}, value: '.format(attr.decode(), dev.debug_attrs[attr].value.decode()))\n",
    "\n",
    "if __name__ == '__main__':\n",
    "\tmain()"
   ]
  },
  {
   "cell_type": "code",
   "execution_count": 4,
   "metadata": {
    "collapsed": false
   },
   "outputs": [
    {
     "name": "stdout",
     "output_type": "stream",
     "text": [
      "IIO context has 4 devices:\n",
      "temp0:  (i)\n",
      "\t(2747+-2219)*123.040771484/1000=64.965527343552\n",
      "voltage0: vccint (i)\n",
      "\t1383*0.732421875/1000=1.012939453125\n",
      "voltage1: vccaux (i)\n",
      "\t2478*0.732421875/1000=1.81494140625\n",
      "voltage2: vccbram (i)\n",
      "\t1382*0.732421875/1000=1.01220703125\n",
      "voltage3: vccpint (i)\n",
      "\t1380*0.732421875/1000=1.0107421875\n",
      "voltage4: vccpaux (i)\n",
      "\t2478*0.732421875/1000=1.81494140625\n",
      "voltage5: vccoddr (i)\n",
      "\t2053*0.732421875/1000=1.503662109375\n",
      "voltage6: vrefp (i)\n",
      "\t0*0.732421875/1000=0.0\n",
      "voltage7: vrefn (i)\n",
      "\t0*0.732421875/1000=0.0\n"
     ]
    }
   ],
   "source": [
    "ctx = iio.Context()\n",
    "\n",
    "print ('IIO context has %u devices:' % len(ctx.devices))\n",
    "\n",
    "dev = ctx.devices[2]\n",
    "\n",
    "for chn in dev.channels:\n",
    "    print ('{}: {} ({})'.format(chn.id.decode(), chn.name.decode() if chn.name else \"\", 'o' if chn.output else 'i'))\n",
    "    raw    = chn.attrs[b'raw'].value.decode()\n",
    "    scale  = chn.attrs[b'scale'].value.decode()\n",
    "    if len(chn.attrs) == 3:\n",
    "        offset = chn.attrs[b'offset'].value.decode()\n",
    "        print ('\\t({}+{})*{}/1000={}'.format(raw, offset, scale, (int(raw)+int(offset))*float(scale)/1000))\n",
    "    else:\n",
    "        print ('\\t{}*{}/1000={}'.format(raw, scale, int(raw)*float(scale)/1000))\n"
   ]
  },
  {
   "cell_type": "code",
   "execution_count": 5,
   "metadata": {
    "collapsed": false
   },
   "outputs": [
    {
     "data": {
      "text/plain": [
       "True"
      ]
     },
     "execution_count": 5,
     "metadata": {},
     "output_type": "execute_result"
    }
   ],
   "source": [
    "trg = ctx.devices[1]\n",
    "dev = ctx.devices[3]\n",
    "chn = dev.channels[3]\n",
    "chn.scan_element"
   ]
  },
  {
   "cell_type": "code",
   "execution_count": 8,
   "metadata": {
    "collapsed": false
   },
   "outputs": [],
   "source": [
    "chn.enabled = True"
   ]
  },
  {
   "cell_type": "code",
   "execution_count": 9,
   "metadata": {
    "collapsed": false
   },
   "outputs": [
    {
     "data": {
      "text/plain": [
       "True"
      ]
     },
     "execution_count": 9,
     "metadata": {},
     "output_type": "execute_result"
    }
   ],
   "source": [
    "chn.enabled"
   ]
  },
  {
   "cell_type": "code",
   "execution_count": 10,
   "metadata": {
    "collapsed": false
   },
   "outputs": [],
   "source": [
    "dev.trigger = trg"
   ]
  },
  {
   "cell_type": "code",
   "execution_count": 11,
   "metadata": {
    "collapsed": false
   },
   "outputs": [
    {
     "data": {
      "text/plain": [
       "<iio.Trigger at 0xb14cdf70>"
      ]
     },
     "execution_count": 11,
     "metadata": {},
     "output_type": "execute_result"
    }
   ],
   "source": [
    "trg"
   ]
  },
  {
   "cell_type": "markdown",
   "metadata": {
    "collapsed": true
   },
   "source": [
    "https://github.com/jeras/libiio/blob/master/examples/dummy-iiostream.c\n",
    "\n",
    "https://github.com/jeras/libiio/blob/master/bindings/python/iio.py\n",
    "\n",
    "https://github.com/analogdevicesinc/libiio/pull/88"
   ]
  },
  {
   "cell_type": "code",
   "execution_count": 13,
   "metadata": {
    "collapsed": false
   },
   "outputs": [
    {
     "ename": "OSError",
     "evalue": "[Errno 16] Device or resource busy",
     "output_type": "error",
     "traceback": [
      "\u001b[0;31m---------------------------------------------------------------------------\u001b[0m",
      "\u001b[0;31mOSError\u001b[0m                                   Traceback (most recent call last)",
      "\u001b[0;32m<ipython-input-13-19806acdfd9f>\u001b[0m in \u001b[0;36m<module>\u001b[0;34m()\u001b[0m\n\u001b[0;32m----> 1\u001b[0;31m \u001b[0mbuf\u001b[0m \u001b[0;34m=\u001b[0m \u001b[0miio\u001b[0m\u001b[0;34m.\u001b[0m\u001b[0mBuffer\u001b[0m\u001b[0;34m(\u001b[0m\u001b[0mdev\u001b[0m\u001b[0;34m,\u001b[0m \u001b[0;36m1\u001b[0m\u001b[0;34m,\u001b[0m \u001b[0mcyclic\u001b[0m\u001b[0;34m=\u001b[0m\u001b[0;32mFalse\u001b[0m\u001b[0;34m)\u001b[0m\u001b[0;34m\u001b[0m\u001b[0m\n\u001b[0m",
      "\u001b[0;32m/home/jupyter/test/iio.py\u001b[0m in \u001b[0;36m__init__\u001b[0;34m(self, device, samples_count, cyclic)\u001b[0m\n\u001b[1;32m    492\u001b[0m \t\t\"\"\"\n\u001b[1;32m    493\u001b[0m                 \u001b[0;32mtry\u001b[0m\u001b[0;34m:\u001b[0m\u001b[0;34m\u001b[0m\u001b[0m\n\u001b[0;32m--> 494\u001b[0;31m                         \u001b[0mself\u001b[0m\u001b[0;34m.\u001b[0m\u001b[0m_buffer\u001b[0m \u001b[0;34m=\u001b[0m \u001b[0m_create_buffer\u001b[0m\u001b[0;34m(\u001b[0m\u001b[0mdevice\u001b[0m\u001b[0;34m.\u001b[0m\u001b[0m_device\u001b[0m\u001b[0;34m,\u001b[0m \u001b[0msamples_count\u001b[0m\u001b[0;34m,\u001b[0m \u001b[0mcyclic\u001b[0m\u001b[0;34m)\u001b[0m\u001b[0;34m\u001b[0m\u001b[0m\n\u001b[0m\u001b[1;32m    495\u001b[0m                 \u001b[0;32mexcept\u001b[0m\u001b[0;34m:\u001b[0m\u001b[0;34m\u001b[0m\u001b[0m\n\u001b[1;32m    496\u001b[0m                         \u001b[0mself\u001b[0m\u001b[0;34m.\u001b[0m\u001b[0m_buffer\u001b[0m \u001b[0;34m=\u001b[0m \u001b[0;32mNone\u001b[0m\u001b[0;34m\u001b[0m\u001b[0m\n",
      "\u001b[0;32m/home/jupyter/test/iio.py\u001b[0m in \u001b[0;36m_checkNull\u001b[0;34m(result, func, arguments)\u001b[0m\n\u001b[1;32m     31\u001b[0m         \u001b[0;32melse\u001b[0m\u001b[0;34m:\u001b[0m\u001b[0;34m\u001b[0m\u001b[0m\n\u001b[1;32m     32\u001b[0m                 \u001b[0merr\u001b[0m \u001b[0;34m=\u001b[0m \u001b[0mget_last_error\u001b[0m\u001b[0;34m(\u001b[0m\u001b[0;34m)\u001b[0m \u001b[0;32mif\u001b[0m \u001b[0;34m'Windows'\u001b[0m \u001b[0;32min\u001b[0m \u001b[0m_system\u001b[0m\u001b[0;34m(\u001b[0m\u001b[0;34m)\u001b[0m \u001b[0;32melse\u001b[0m \u001b[0mget_errno\u001b[0m\u001b[0;34m(\u001b[0m\u001b[0;34m)\u001b[0m\u001b[0;34m\u001b[0m\u001b[0m\n\u001b[0;32m---> 33\u001b[0;31m                 \u001b[0;32mraise\u001b[0m \u001b[0mOSError\u001b[0m\u001b[0;34m(\u001b[0m\u001b[0merr\u001b[0m\u001b[0;34m,\u001b[0m \u001b[0m_strerror\u001b[0m\u001b[0;34m(\u001b[0m\u001b[0merr\u001b[0m\u001b[0;34m)\u001b[0m\u001b[0;34m)\u001b[0m\u001b[0;34m\u001b[0m\u001b[0m\n\u001b[0m\u001b[1;32m     34\u001b[0m \u001b[0;34m\u001b[0m\u001b[0m\n\u001b[1;32m     35\u001b[0m \u001b[0;32mdef\u001b[0m \u001b[0m_checkNegative\u001b[0m\u001b[0;34m(\u001b[0m\u001b[0mresult\u001b[0m\u001b[0;34m,\u001b[0m \u001b[0mfunc\u001b[0m\u001b[0;34m,\u001b[0m \u001b[0marguments\u001b[0m\u001b[0;34m)\u001b[0m\u001b[0;34m:\u001b[0m\u001b[0;34m\u001b[0m\u001b[0m\n",
      "\u001b[0;31mOSError\u001b[0m: [Errno 16] Device or resource busy"
     ]
    }
   ],
   "source": [
    "buf = iio.Buffer(dev, 1, cyclic=False)"
   ]
  },
  {
   "cell_type": "code",
   "execution_count": 18,
   "metadata": {
    "collapsed": false
   },
   "outputs": [
    {
     "ename": "NameError",
     "evalue": "name 'buf' is not defined",
     "output_type": "error",
     "traceback": [
      "\u001b[0;31m---------------------------------------------------------------------------\u001b[0m",
      "\u001b[0;31mNameError\u001b[0m                                 Traceback (most recent call last)",
      "\u001b[0;32m<ipython-input-18-79f9005e3fd0>\u001b[0m in \u001b[0;36m<module>\u001b[0;34m()\u001b[0m\n\u001b[0;32m----> 1\u001b[0;31m \u001b[0mbuf\u001b[0m\u001b[0;34m\u001b[0m\u001b[0m\n\u001b[0m",
      "\u001b[0;31mNameError\u001b[0m: name 'buf' is not defined"
     ]
    }
   ],
   "source": [
    "buf"
   ]
  },
  {
   "cell_type": "code",
   "execution_count": 2,
   "metadata": {
    "collapsed": false
   },
   "outputs": [
    {
     "data": {
      "text/plain": [
       "0"
      ]
     },
     "execution_count": 2,
     "metadata": {},
     "output_type": "execute_result"
    }
   ],
   "source": [
    "import os\n",
    "os.system('cat /opt/redpitaya/fpga/classic/fpga.bit > /dev/xdevcfg')"
   ]
  },
  {
   "cell_type": "code",
   "execution_count": null,
   "metadata": {
    "collapsed": true
   },
   "outputs": [],
   "source": []
  }
 ],
 "metadata": {
  "kernelspec": {
   "display_name": "Python 3",
   "language": "python",
   "name": "python3"
  },
  "language_info": {
   "codemirror_mode": {
    "name": "ipython",
    "version": 3
   },
   "file_extension": ".py",
   "mimetype": "text/x-python",
   "name": "python",
   "nbconvert_exporter": "python",
   "pygments_lexer": "ipython3",
   "version": "3.5.2"
  }
 },
 "nbformat": 4,
 "nbformat_minor": 2
}
