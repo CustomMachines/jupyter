{
 "cells": [
  {
   "cell_type": "markdown",
   "metadata": {},
   "source": [
    "# `libiio`: library for interfacing with IIO devices\n",
    "\n",
    "XADC is currently the only IIO device on Red Pitaya.\n",
    "XADC provides measurements of Zynq chip temperature, supply voltages and a set of analog inputs.\n",
    "The set of measured analog inputs is defined by a device tree node.\n",
    "\n",
    "The kernel IIO driver provides a `sysfs` interface for accessing XADC measurements.\n",
    "There are actually two drivers running at the same time.\n",
    "\n",
    "## `compatible = \"xlnx,zynq-xadc-1.00.a\";`\n",
    "\n",
    "This driver is accessing XADC over JTAG, and provides only\n",
    "temperature and supply voltage measurements, at a slow data rate.\n",
    "The advantage is, it does not require FPGA code and is therefore always available.\n",
    "All data is accessed over `sysfs`.\n",
    "\n",
    "## `compatible = \"xlnx,axi-xadc-1.00.a\";`\n",
    "\n",
    "This driver requires FPGA code connecting the XADC to the CPU over the AXI bus.\n",
    "The full feature set is provided.\n",
    "External voltage measurements are available with the full data rate.\n",
    "In addition to the `sysfs` interface a cyclic buffer can be obtained from a device node."
   ]
  },
  {
   "cell_type": "markdown",
   "metadata": {},
   "source": [
    "The next code is using Python bindings to `libiio` list the functionality exposed over `sysfs`."
   ]
  },
  {
   "cell_type": "code",
   "execution_count": null,
   "metadata": {
    "collapsed": false,
    "scrolled": true
   },
   "outputs": [],
   "source": [
    "import iio\n",
    "\n",
    "def main():\n",
    "    ctx = iio.Context()\n",
    "\n",
    "    print ('Library version: {}.{} (git tag: {})'.format(iio.version[0], iio.version[1], iio.version[2].decode()))\n",
    "\n",
    "    print ('IIO context created: %s' % ctx.name)\n",
    "    print ('Backend version: {}.{} (git tag: {})'.format(ctx.version[0], ctx.version[1], ctx.version[2].decode()))\n",
    "    print ('Backend description string: {}'.format(ctx.description.decode()))\n",
    "\n",
    "    print ('IIO context has %u devices:' % len(ctx.devices))\n",
    "\n",
    "    for dev in ctx.devices:\n",
    "        print ('\\t{}: {}'.format(dev.id.decode(), dev.name.decode()))\n",
    "\n",
    "        if dev is iio.Trigger:\n",
    "            print ('Found trigger! Rate: {} Hz'.format(dev.frequency))\n",
    "\n",
    "        print ('\\t\\t{} channels found:'.format(len(dev.channels)))\n",
    "\n",
    "        for chn in dev.channels:\n",
    "            print ('\\t\\t\\t{}: {} ({})'.format(chn.id.decode(), chn.name.decode() if chn.name else \"\", 'output' if chn.output else 'input'))\n",
    "\n",
    "            if len(chn.attrs) != 0:\n",
    "                print ('\\t\\t\\t{} channel-specific attributes found:'.format(len(chn.attrs)))\n",
    "\n",
    "            for attr in chn.attrs:\n",
    "                print ('\\t\\t\\t\\t{}, value: {}'.format(attr.decode(), chn.attrs[attr].value.decode()))\n",
    "\n",
    "        if len(dev.attrs) != 0:\n",
    "            print ('\\t\\t{} device-specific attributes found:'.format(len(dev.attrs)))\n",
    "\n",
    "        for attr in dev.attrs:\n",
    "            print ('\\t\\t\\t{}, value: '.format(attr.decode(), dev.attrs[attr].value.decode()))\n",
    "\n",
    "        if len(dev.debug_attrs) != 0:\n",
    "            print ('\\t\\t{} debug attributes found:'.format(len(dev.debug_attrs)))\n",
    "\n",
    "        for attr in dev.debug_attrs:\n",
    "            print ('\\t\\t\\t{}, value: '.format(attr.decode(), dev.debug_attrs[attr].value.decode()))\n",
    "\n",
    "if __name__ == '__main__':\n",
    "    main()"
   ]
  },
  {
   "cell_type": "markdown",
   "metadata": {},
   "source": [
    "The next example is reading measurements provided by the `zynq-xadc` driver as `sysfs` files.\n",
    "Based on my experience an undocumented ratio of 1000 has to be used to achieve correct results.\n",
    "\n",
    "Values `raw`, `offset` and `scale` are used to calculate the temperature.\n",
    "\n",
    "$$ T = (raw + offset) \\cdot scale $$\n",
    "\n",
    "Values `raw` and `scale` are used to calculate supply voltages.\n",
    "\n",
    "$$ U = raw \\cdot scale $$"
   ]
  },
  {
   "cell_type": "code",
   "execution_count": null,
   "metadata": {
    "collapsed": false
   },
   "outputs": [],
   "source": [
    "import iio\n",
    "\n",
    "ctx = iio.Context()\n",
    "dev = ctx.devices[2]\n",
    "\n",
    "for chn in dev.channels:\n",
    "    print ('{}: {} ({})'.format(chn.id.decode(), chn.name.decode() if chn.name else \"\", 'output' if chn.output else 'input'))\n",
    "    raw    = chn.attrs[b'raw'].value.decode()\n",
    "    scale  = chn.attrs[b'scale'].value.decode()\n",
    "    if len(chn.attrs) == 3:\n",
    "        offset = chn.attrs[b'offset'].value.decode()\n",
    "        print ('\\t({}+{})*{}/1000={}'.format(raw, offset, scale, (int(raw)+int(offset))*float(scale)/1000))\n",
    "    else:\n",
    "        print ('\\t{}*{}/1000={}'.format(raw, scale, int(raw)*float(scale)/1000))"
   ]
  },
  {
   "cell_type": "markdown",
   "metadata": {},
   "source": [
    "The next example is reading measurements provided by the `axi-xadc` driver as `sysfs` files.\n",
    "Based on my experience an undocumented ratio of 1000 has to be used to achieve correct results.\n",
    "\n",
    "The equations are the same as in the previous example.\n",
    "This interface also provides slow analog input pin voltages `vaux0`, `vaux1`, `vaux8` and `vaux9`."
   ]
  },
  {
   "cell_type": "code",
   "execution_count": null,
   "metadata": {
    "collapsed": false
   },
   "outputs": [],
   "source": [
    "import iio\n",
    "\n",
    "ctx = iio.Context()\n",
    "dev = ctx.devices[3]\n",
    "\n",
    "for chn in dev.channels:\n",
    "    print ('{}: {} ({})'.format(chn.id.decode(), chn.name.decode() if chn.name else \"\", 'output' if chn.output else 'input'))\n",
    "    raw    = chn.attrs[b'raw'].value.decode()\n",
    "    scale  = chn.attrs[b'scale'].value.decode()\n",
    "    if len(chn.attrs) == 6:\n",
    "        offset = chn.attrs[b'offset'].value.decode()\n",
    "        print ('\\t({}+{})*{}/1000={}'.format(raw, offset, scale, (int(raw)+int(offset))*float(scale)/1000))\n",
    "    else:\n",
    "        print ('\\t{}*{}/1000={}'.format(raw, scale, int(raw)*float(scale)/1000))"
   ]
  },
  {
   "cell_type": "markdown",
   "metadata": {},
   "source": [
    "The following code is an attempt to get a buffer containing XADC samples.\n",
    "For now it crashes the Linux kernel, requiering a reboot.\n",
    "\n",
    "I can get it to work in CLI using C example:\n",
    "```\n",
    "/home/jupyter/libiio/examples/dummy-iiostream -d xadc -t xadc0-samplerate -b 64 -c 2\n",
    "```\n",
    "But I have to comment out `zynq-xadc` in the device tree,\n",
    "since both have the same device name (kernel driver name)."
   ]
  },
  {
   "cell_type": "code",
   "execution_count": null,
   "metadata": {
    "collapsed": false
   },
   "outputs": [],
   "source": [
    "import numpy as np\n",
    "\n",
    "data_size = 64\n",
    "\n",
    "import iio\n",
    "ctx = iio.Context()\n",
    "trg = ctx.devices[1]\n",
    "dev = ctx.devices[3]\n",
    "# due to a probable bug in the axi-xadc driver all channels have to be enabled,\n",
    "# otherwise the driver crashes the kernel\n",
    "for chn in dev.channels:\n",
    "    chn.enabled = True\n",
    "dev.trigger = trg\n",
    "buf = iio.Buffer(dev, data_size, cyclic=False)\n",
    "\n",
    "print ([dev.channels[i].id.decode() for i in range(len(dev.channels))])\n",
    "print ([dev.channels[i].scan_element for i in range(len(dev.channels))])\n",
    "print ([dev.channels[i].enabled for i in range(len(dev.channels))])"
   ]
  },
  {
   "cell_type": "code",
   "execution_count": null,
   "metadata": {
    "collapsed": false
   },
   "outputs": [],
   "source": [
    "cnt = buf.refill()"
   ]
  },
  {
   "cell_type": "code",
   "execution_count": null,
   "metadata": {
    "collapsed": false
   },
   "outputs": [],
   "source": [
    "data_buf = buf.read()\n",
    "# data = np.recarray(data_size, data_type, buf=data_buf)\n",
    "data = np.frombuffer(data_buf, np.dtype('uint16'))\n",
    "# reshape array and transpose\n",
    "data = data.reshape((data_size, len(dev.channels))).T"
   ]
  },
  {
   "cell_type": "code",
   "execution_count": null,
   "metadata": {
    "collapsed": false
   },
   "outputs": [],
   "source": [
    "[x>>3 for x in data]"
   ]
  },
  {
   "cell_type": "code",
   "execution_count": null,
   "metadata": {
    "collapsed": false
   },
   "outputs": [],
   "source": [
    "from plotly.offline import download_plotlyjs, init_notebook_mode, plot, iplot\n",
    "import plotly.plotly as py\n",
    "import plotly.graph_objs as go\n",
    "\n",
    "init_notebook_mode(connected=True)\n",
    "\n",
    "data_x = np.linspace(0, 1, data_size)\n",
    "\n",
    "# temperature trace\n",
    "chn = dev.channels[0]\n",
    "scale  = chn.attrs[b'scale'].value.decode()\n",
    "offset = chn.attrs[b'offset'].value.decode()\n",
    "temp0 = go.Scatter(\n",
    "    x = data_x,\n",
    "    y = ((data[0]>>4) + int(offset)) * float(scale) / 1000,\n",
    "    mode = 'lines',\n",
    "    name = 'temp0'\n",
    ")\n",
    "\n",
    "# voltage traces\n",
    "traces = []\n",
    "for chn in dev.channels:\n",
    "    if len(chn.attrs) == 5:\n",
    "        scale  = chn.attrs[b'scale'].value.decode()\n",
    "        traces.append(go.Scatter(\n",
    "            x = data_x,\n",
    "            y = (data[0]>>4) * float(scale) / 1000,\n",
    "            mode = 'lines',\n",
    "            name = chn.name.decode()\n",
    "        ))\n",
    "\n",
    "# Plot and embed in ipython notebook!\n",
    "iplot([temp0], show_link=False)\n",
    "iplot(traces, show_link=False)"
   ]
  },
  {
   "cell_type": "code",
   "execution_count": null,
   "metadata": {
    "collapsed": true
   },
   "outputs": [],
   "source": []
  }
 ],
 "metadata": {
  "kernelspec": {
   "display_name": "Python 3",
   "language": "python",
   "name": "python3"
  },
  "language_info": {
   "codemirror_mode": {
    "name": "ipython",
    "version": 3
   },
   "file_extension": ".py",
   "mimetype": "text/x-python",
   "name": "python",
   "nbconvert_exporter": "python",
   "pygments_lexer": "ipython3",
   "version": "3.5.2"
  }
 },
 "nbformat": 4,
 "nbformat_minor": 2
}
