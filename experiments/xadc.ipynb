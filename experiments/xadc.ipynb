{
 "cells": [
  {
   "cell_type": "code",
   "execution_count": null,
   "metadata": {
    "collapsed": false
   },
   "outputs": [],
   "source": [
    "import iio\n",
    "\n",
    "def main():\n",
    "\tctx = iio.Context()\n",
    "\n",
    "\tprint ('Library version: {}.{} (git tag: {})'.format(iio.version[0], iio.version[1], iio.version[2].decode()))\n",
    "\n",
    "\tprint ('IIO context created: %s' % ctx.name)\n",
    "\tprint ('Backend version: {}.{} (git tag: {})'.format(ctx.version[0], ctx.version[1], ctx.version[2].decode()))\n",
    "\tprint ('Backend description string: {}'.format(ctx.description.decode()))\n",
    "\n",
    "\tprint ('IIO context has %u devices:' % len(ctx.devices))\n",
    "\n",
    "\tfor dev in ctx.devices:\n",
    "\t\tprint ('\\t{}: {}'.format(dev.id.decode(), dev.name.decode()))\n",
    "\n",
    "\t\tif dev is iio.Trigger:\n",
    "\t\t\tprint ('Found trigger! Rate: {} Hz'.format(dev.frequency))\n",
    "\n",
    "\t\tprint ('\\t\\t{} channels found:'.format(len(dev.channels)))\n",
    "\n",
    "\t\tfor chn in dev.channels:\n",
    "\t\t\tprint ('\\t\\t\\t{}: {} ({})'.format(chn.id.decode(), chn.name.decode() if chn.name else \"\", 'output' if chn.output else 'input'))\n",
    "\n",
    "\t\t\tif len(chn.attrs) != 0:\n",
    "\t\t\t\tprint ('\\t\\t\\t{} channel-specific attributes found:'.format(len(chn.attrs)))\n",
    "\n",
    "\t\t\tfor attr in chn.attrs:\n",
    "\t\t\t\tprint ('\\t\\t\\t\\t{}, value: {}'.format(attr.decode(), chn.attrs[attr].value.decode()))\n",
    "\n",
    "\t\tif len(dev.attrs) != 0:\n",
    "\t\t\tprint ('\\t\\t{} device-specific attributes found:'.format(len(dev.attrs)))\n",
    "\n",
    "\t\tfor attr in dev.attrs:\n",
    "\t\t\tprint ('\\t\\t\\t{}, value: '.format(attr.decode(), dev.attrs[attr].value.decode()))\n",
    "\n",
    "\t\tif len(dev.debug_attrs) != 0:\n",
    "\t\t\tprint ('\\t\\t{} debug attributes found:'.format(len(dev.debug_attrs)))\n",
    "\n",
    "\t\tfor attr in dev.debug_attrs:\n",
    "\t\t\tprint ('\\t\\t\\t{}, value: '.format(attr.decode(), dev.debug_attrs[attr].value.decode()))\n",
    "\n",
    "if __name__ == '__main__':\n",
    "\tmain()"
   ]
  },
  {
   "cell_type": "code",
   "execution_count": null,
   "metadata": {
    "collapsed": false
   },
   "outputs": [],
   "source": [
    "ctx = iio.Context()\n",
    "\n",
    "print ('IIO context has %u devices:' % len(ctx.devices))\n",
    "\n",
    "dev = ctx.devices[2]\n",
    "\n",
    "for chn in dev.channels:\n",
    "    print ('{}: {} ({})'.format(chn.id.decode(), chn.name.decode() if chn.name else \"\", 'o' if chn.output else 'i'))\n",
    "    raw    = chn.attrs[b'raw'].value.decode()\n",
    "    scale  = chn.attrs[b'scale'].value.decode()\n",
    "    if len(chn.attrs) == 3:\n",
    "        offset = chn.attrs[b'offset'].value.decode()\n",
    "        print ('\\t({}+{})*{}/1000={}'.format(raw, offset, scale, (int(raw)+int(offset))*float(scale)/1000))\n",
    "    else:\n",
    "        print ('\\t{}*{}/1000={}'.format(raw, scale, int(raw)*float(scale)/1000))"
   ]
  },
  {
   "cell_type": "code",
   "execution_count": null,
   "metadata": {
    "collapsed": false
   },
   "outputs": [],
   "source": [
    "import iio\n",
    "ctx = iio.Context()\n",
    "trg = ctx.devices[1]\n",
    "dev = ctx.devices[3]\n",
    "chn = dev.channels[3]\n",
    "chn.scan_element\n",
    "chn.enabled = True\n",
    "dev.trigger = trg"
   ]
  },
  {
   "cell_type": "markdown",
   "metadata": {
    "collapsed": true
   },
   "source": [
    "https://github.com/jeras/libiio/blob/master/examples/dummy-iiostream.c\n",
    "\n",
    "https://github.com/jeras/libiio/blob/master/bindings/python/iio.py\n",
    "\n",
    "https://github.com/analogdevicesinc/libiio/pull/88"
   ]
  },
  {
   "cell_type": "code",
   "execution_count": null,
   "metadata": {
    "collapsed": false
   },
   "outputs": [],
   "source": [
    "buf = iio.Buffer(dev, 64, cyclic=False)"
   ]
  },
  {
   "cell_type": "code",
   "execution_count": null,
   "metadata": {
    "collapsed": false
   },
   "outputs": [],
   "source": [
    "buf"
   ]
  },
  {
   "cell_type": "code",
   "execution_count": null,
   "metadata": {
    "collapsed": true
   },
   "outputs": [],
   "source": []
  }
 ],
 "metadata": {
  "kernelspec": {
   "display_name": "Python 3",
   "language": "python",
   "name": "python3"
  },
  "language_info": {
   "codemirror_mode": {
    "name": "ipython",
    "version": 3
   },
   "file_extension": ".py",
   "mimetype": "text/x-python",
   "name": "python",
   "nbconvert_exporter": "python",
   "pygments_lexer": "ipython3",
   "version": "3.5.2"
  }
 },
 "nbformat": 4,
 "nbformat_minor": 2
}
